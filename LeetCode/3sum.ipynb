{
 "cells": [
  {
   "cell_type": "code",
   "execution_count": 28,
   "metadata": {},
   "outputs": [],
   "source": [
    "class Solution(object):\n",
    "    def TwoSum(self, arr, target, indexes):\n",
    "        i, j = 0, 0\n",
    "        res = []\n",
    "        while i < len(arr):\n",
    "            j = 0\n",
    "            while j < len(arr) and arr[j] <= target - arr[i]:\n",
    "                if i != j and not i in indexes and not j in indexes and arr[i] + arr[j] == target:\n",
    "                    res.append([arr[i],arr[j]])\n",
    "                j += 1\n",
    "            i += 1\n",
    "        return res\n",
    "    \n",
    "    def threeSum(self, arr):\n",
    "        res = []\n",
    "        i = 0\n",
    "        arr.sort()\n",
    "        while i < len(arr):\n",
    "            sub_res = self.TwoSum(arr, -arr[i], i)\n",
    "            for a in sub_res:\n",
    "                sub = sorted(a+[arr[i]])\n",
    "                if not sub in res:\n",
    "                    res.append(sub)\n",
    "            i += 1\n",
    "        return res\n",
    "\n",
    "sol = Solution()"
   ]
  },
  {
   "cell_type": "code",
   "execution_count": 65,
   "metadata": {},
   "outputs": [
    {
     "name": "stdout",
     "output_type": "stream",
     "text": [
      "[-2, 0, 0, 2, 2, 2, 2, 2, 2, 2, 2, 2, 2, 2]\n",
      "[[-2, 0, 2]]\n"
     ]
    }
   ],
   "source": [
    "class Solution(object):\n",
    "    def threeSum(self, arr):\n",
    "        arr.sort()\n",
    "        z = 0\n",
    "        res = []\n",
    "        l_arr = len(arr)\n",
    "        #while z < l_arr:\n",
    "        for z in range(l_arr):\n",
    "            if z > 0 and arr[z] == arr[z-1]:\n",
    "                #z += 1\n",
    "                continue\n",
    "            i = z + 1\n",
    "            j = l_arr-1\n",
    "            while i < j:\n",
    "                summ = arr[i] + arr[j] + arr[z]\n",
    "                if (summ == 0):\n",
    "                    res.append([arr[z], arr[i], arr[j]])\n",
    "                    while i < l_arr-1 and arr[i] == arr[i+1]:\n",
    "                        i += 1\n",
    "                    while j > z + 1 and arr[j] == arr[j-1]:\n",
    "                        j -= 1\n",
    "                    i += 1\n",
    "                    j -= 1\n",
    "                elif summ < 0:\n",
    "                    i += 1\n",
    "                else:\n",
    "                    j -= 1\n",
    "            #z += 1\n",
    "        return res"
   ]
  },
  {
   "cell_type": "code",
   "execution_count": null,
   "metadata": {},
   "outputs": [],
   "source": [
    "[-2,-3]"
   ]
  }
 ],
 "metadata": {
  "kernelspec": {
   "display_name": "Python 3",
   "language": "python",
   "name": "python3"
  },
  "language_info": {
   "codemirror_mode": {
    "name": "ipython",
    "version": 3
   },
   "file_extension": ".py",
   "mimetype": "text/x-python",
   "name": "python",
   "nbconvert_exporter": "python",
   "pygments_lexer": "ipython3",
   "version": "3.6.4"
  }
 },
 "nbformat": 4,
 "nbformat_minor": 4
}
