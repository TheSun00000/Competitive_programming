{
 "cells": [
  {
   "cell_type": "code",
   "execution_count": 40,
   "metadata": {},
   "outputs": [],
   "source": [
    "grid = [\n",
    "    [1]\n",
    "]"
   ]
  },
  {
   "cell_type": "code",
   "execution_count": 41,
   "metadata": {},
   "outputs": [],
   "source": [
    "dxs = [0, 0, -1, 1]\n",
    "dys = [1, -1, 0, 0]\n",
    "\n",
    "def expand(i, j, grid, pile):   \n",
    "\n",
    "    res = 0\n",
    "\n",
    "    if not (0 < i < len(grid)) or not (0 < j < len(grid[0])) or grid[i][j] == 0 or (i, j) in pile:\n",
    "        return res\n",
    "    \n",
    "    # print(i, j, pile)\n",
    "\n",
    "    pile.append((i,j))\n",
    "    grid[i][j] = 0\n",
    "\n",
    "    for dx, dy in zip(dxs, dys):\n",
    "        res += expand(i+dx, j+dy, grid, pile)\n",
    "\n",
    "    return res + 1"
   ]
  },
  {
   "cell_type": "code",
   "execution_count": 42,
   "metadata": {},
   "outputs": [
    {
     "name": "stdout",
     "output_type": "stream",
     "text": [
      "0\n"
     ]
    }
   ],
   "source": [
    "final_res = 0\n",
    "for i in range(len(grid)):\n",
    "    for j in range(len(grid[0])):\n",
    "        if grid[i][j] == 1:\n",
    "            pile = []\n",
    "            final_res = max(final_res, expand(i, j, grid, pile))\n",
    "\n",
    "print(final_res)"
   ]
  },
  {
   "cell_type": "code",
   "execution_count": 43,
   "metadata": {},
   "outputs": [
    {
     "name": "stdout",
     "output_type": "stream",
     "text": [
      "[1]\n"
     ]
    }
   ],
   "source": [
    "for _ in grid:print(_)"
   ]
  },
  {
   "cell_type": "markdown",
   "metadata": {},
   "source": [
    "pipipopo"
   ]
  },
  {
   "cell_type": "code",
   "execution_count": 62,
   "metadata": {},
   "outputs": [],
   "source": [
    "class TreeNode:\n",
    "    def __init__(self, val=0, left=None, right=None):\n",
    "        self.val = val\n",
    "        self.left = left\n",
    "        self.right = right\n",
    "\n",
    "def buildTree(preorder, inorder):\n",
    "    \n",
    "    def solve(arr, n):\n",
    "        \n",
    "        print(arr, preorder[n])\n",
    "\n",
    "        id_n = arr.index(preorder[n])\n",
    "        \n",
    "        l_arr = arr[:id_n]\n",
    "        r_arr = arr[id_n+1:]\n",
    "        \n",
    "        print(l_arr, r_arr)\n",
    "\n",
    "        j = n+1\n",
    "        l_done = True\n",
    "        r_done = True\n",
    "        \n",
    "        while j < len(preorder) and (l_done or r_done):\n",
    "            \n",
    "            pre = preorder[j]\n",
    "\n",
    "            if l_done and pre in l_arr:\n",
    "                left  = solve(l_arr, j)\n",
    "                l_done = False\n",
    "\n",
    "            elif r_done and pre in r_arr:\n",
    "                right = solve(r_arr, j)\n",
    "                r_done = False\n",
    "                \n",
    "            j += 1\n",
    "            \n",
    "        if l_done:\n",
    "            left = None\n",
    "        if r_done:\n",
    "            right = None\n",
    "        \n",
    "        \n",
    "        node = TreeNode(preorder[n], left, right)\n",
    "        \n",
    "        return node\n",
    "        \n",
    "    return solve(inorder, 0)"
   ]
  },
  {
   "cell_type": "code",
   "execution_count": 63,
   "metadata": {},
   "outputs": [
    {
     "name": "stdout",
     "output_type": "stream",
     "text": [
      "[9, 3, 15, 20, 7] 3\n",
      "[9] [15, 20, 7]\n",
      "[9] 9\n",
      "[] []\n",
      "[15, 20, 7] 20\n",
      "[15] [7]\n",
      "[15] 15\n",
      "[] []\n",
      "[7] 7\n",
      "[] []\n"
     ]
    }
   ],
   "source": [
    "preorder = [3,9,20,15,7]\n",
    "inorder  = [9,3,15,20,7]\n",
    "node = buildTree(preorder, inorder)"
   ]
  },
  {
   "cell_type": "code",
   "execution_count": 67,
   "metadata": {},
   "outputs": [
    {
     "data": {
      "text/plain": [
       "{9: 0, 3: 1, 15: 2, 20: 3, 7: 4}"
      ]
     },
     "execution_count": 67,
     "metadata": {},
     "output_type": "execute_result"
    }
   ],
   "source": [
    "{n:i for i, n in enumerate(inorder)}"
   ]
  }
 ],
 "metadata": {
  "interpreter": {
   "hash": "916dbcbb3f70747c44a77c7bcd40155683ae19c65e1c03b4aa3499c5328201f1"
  },
  "kernelspec": {
   "display_name": "Python 3.8.10 64-bit",
   "language": "python",
   "name": "python3"
  },
  "language_info": {
   "codemirror_mode": {
    "name": "ipython",
    "version": 3
   },
   "file_extension": ".py",
   "mimetype": "text/x-python",
   "name": "python",
   "nbconvert_exporter": "python",
   "pygments_lexer": "ipython3",
   "version": "3.8.10"
  },
  "orig_nbformat": 4
 },
 "nbformat": 4,
 "nbformat_minor": 2
}
