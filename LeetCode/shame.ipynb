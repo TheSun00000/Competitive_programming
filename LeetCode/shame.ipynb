{
 "cells": [
  {
   "cell_type": "code",
   "execution_count": 61,
   "metadata": {},
   "outputs": [],
   "source": []
  },
  {
   "cell_type": "code",
   "execution_count": 170,
   "metadata": {},
   "outputs": [],
   "source": [
    "class Solution(object):\n",
    "    def threeEqualParts(self, arr):\n",
    "        \"\"\"\n",
    "        :type arr: List[int]\n",
    "        :rtype: List[int]\n",
    "        \"\"\"\n",
    "        res_a = 0\n",
    "        res_b = 0\n",
    "        res_c = 0\n",
    "\n",
    "        i, c = 0, 0\n",
    "\n",
    "        while c < len(arr):\n",
    "            res_c = res_c*2 + arr[c]\n",
    "            c += 1\n",
    "\n",
    "        while i < len(arr) and arr[i] == 0:\n",
    "            i += 1\n",
    "\n",
    "        if i == len(arr)-1:\n",
    "            return [-1,-1]\n",
    "        if i == len(arr):\n",
    "            return [0,i-1]\n",
    "\n",
    "        diff = i\n",
    "        #arr = arr[i:]\n",
    "        #i = 0\n",
    "        j = len(arr)-1\n",
    "\n",
    "        saved_i, saved_j = 0, 0\n",
    "        saved_res_a, saved_res_b, saved_res_c = 0, 0, res_c\n",
    "\n",
    "        first = True\n",
    "        while i < j and res_c > res_a:\n",
    "\n",
    "            res_a = res_a*2 + arr[i]\n",
    "            res_b = res_b + arr[j]*2**(len(arr)-1 - j)\n",
    "\n",
    "\n",
    "            res_c = ( res_c - arr[i]*2**(len(arr)-(i-diff)*2-1) ) // 2\n",
    "            if res_a == res_b:\n",
    "                saved_i, saved_j = i, j\n",
    "                saved_res_a, saved_res_b, saved_res_c = res_a, res_b, res_c\n",
    "            i += 1\n",
    "            j -= 1\n",
    "\n",
    "        if saved_res_a > saved_res_c:\n",
    "            return [-1,-1]\n",
    "\n",
    "        while saved_res_c > saved_res_a and arr[saved_j-1] == 0:\n",
    "            saved_res_c = saved_res_c // 2\n",
    "            saved_j -= 1\n",
    "\n",
    "        if saved_res_a == saved_res_c:\n",
    "            return [saved_i+diff, saved_j+diff]\n",
    "        else:\n",
    "            return [-1,-1]\n",
    "\n",
    "sol = Solution()"
   ]
  },
  {
   "cell_type": "code",
   "execution_count": 173,
   "metadata": {},
   "outputs": [
    {
     "data": {
      "text/plain": [
       "[-1, -1]"
      ]
     },
     "execution_count": 173,
     "metadata": {},
     "output_type": "execute_result"
    }
   ],
   "source": [
    "sol.threeEqualParts([0,0,0,0,0,1,0,0,1,0,0,1,0,0])"
   ]
  },
  {
   "cell_type": "code",
   "execution_count": 168,
   "metadata": {},
   "outputs": [
    {
     "ename": "SyntaxError",
     "evalue": "'return' outside function (<ipython-input-168-4617c2869b61>, line 15)",
     "output_type": "error",
     "traceback": [
      "\u001b[1;36m  File \u001b[1;32m\"<ipython-input-168-4617c2869b61>\"\u001b[1;36m, line \u001b[1;32m15\u001b[0m\n\u001b[1;33m    return [-1,-1]\u001b[0m\n\u001b[1;37m    ^\u001b[0m\n\u001b[1;31mSyntaxError\u001b[0m\u001b[1;31m:\u001b[0m 'return' outside function\n"
     ]
    }
   ],
   "source": [
    "res_a = 0\n",
    "res_b = 0\n",
    "res_c = 0\n",
    "\n",
    "i, c = 0, 0\n",
    "\n",
    "while c < len(arr):\n",
    "    res_c = res_c*2 + arr[c]\n",
    "    c += 1\n",
    "\n",
    "while i < len(arr) and arr[i] == 0:\n",
    "    i += 1\n",
    "\n",
    "if i == len(arr)-1:\n",
    "    return [-1,-1]\n",
    "if i == len(arr):\n",
    "    return [0,i-1]\n",
    "\n",
    "diff = i\n",
    "#arr = arr[i:]\n",
    "#i = 0\n",
    "j = len(arr)-1\n",
    "\n",
    "saved_i, saved_j = 0, 0\n",
    "saved_res_a, saved_res_b, saved_res_c = 0, 0, res_c\n",
    "\n",
    "first = True\n",
    "while i < j and res_c > res_a:\n",
    "    \n",
    "    res_a = res_a*2 + arr[i]\n",
    "    res_b = res_b + arr[j]*2**(len(arr)-1 - j)\n",
    "    \n",
    "    \n",
    "    res_c = ( res_c - arr[i]*2**(len(arr)-(i-diff)*2-1) ) // 2\n",
    "    if res_a == res_b:\n",
    "        saved_i, saved_j = i, j\n",
    "        saved_res_a, saved_res_b, saved_res_c = res_a, res_b, res_c\n",
    "    i += 1\n",
    "    j -= 1\n",
    "\n",
    "if saved_res_a > saved_res_c:\n",
    "    return [-1,-1]\n",
    "\n",
    "while saved_res_c > saved_res_a and arr[saved_j-1] == 0:\n",
    "    saved_res_c = saved_res_c // 2\n",
    "    saved_j -= 1\n",
    "\n",
    "if saved_res_a == saved_res_c:\n",
    "    return [saved_i+diff, saved_j+diff]\n",
    "else:\n",
    "    return [-1,-1]\n"
   ]
  },
  {
   "cell_type": "code",
   "execution_count": null,
   "metadata": {},
   "outputs": [],
   "source": []
  }
 ],
 "metadata": {
  "kernelspec": {
   "display_name": "Python 3",
   "language": "python",
   "name": "python3"
  },
  "language_info": {
   "codemirror_mode": {
    "name": "ipython",
    "version": 3
   },
   "file_extension": ".py",
   "mimetype": "text/x-python",
   "name": "python",
   "nbconvert_exporter": "python",
   "pygments_lexer": "ipython3",
   "version": "3.6.4"
  }
 },
 "nbformat": 4,
 "nbformat_minor": 4
}
