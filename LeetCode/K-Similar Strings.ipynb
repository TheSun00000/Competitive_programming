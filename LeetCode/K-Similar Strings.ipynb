{
 "cells": [
  {
   "cell_type": "code",
   "execution_count": 57,
   "metadata": {
    "scrolled": true
   },
   "outputs": [
    {
     "name": "stdout",
     "output_type": "stream",
     "text": [
      "['d', 'c', 'a', 'c', 'b', 'e', 'd', 'b', 'a', 'e'] ['a', 'a', 'b', 'b', 'c', 'c', 'd', 'd', 'e', 'e']\n",
      "['d', 'c', 'a', 'c', 'b', 'e', 'd', 'b', 'a', 'e']\n",
      "['a', 'c', 'd', 'c', 'b', 'e', 'd', 'b', 'a', 'e']\n",
      "['a', 'a', 'd', 'c', 'b', 'e', 'd', 'b', 'c', 'e']\n",
      "['a', 'a', 'b', 'c', 'b', 'e', 'd', 'd', 'c', 'e']\n",
      "['a', 'a', 'b', 'b', 'c', 'e', 'd', 'd', 'c', 'e']\n",
      "5\n"
     ]
    }
   ],
   "source": [
    "s1 = list(\"dcacbedbae\")\n",
    "s2 = list(\"aabbccddee\")\n",
    "\n",
    "\n",
    "d = {\"a\":[],\"b\":[],\"c\":[],\"d\":[],\"e\":[],\"f\":[]}\n",
    "for i in range(len(s1)):\n",
    "    d[s1[i]].append(i)\n",
    "\n",
    "k = 0\n",
    "print(s1, s2)\n",
    "for i in range(len(s1)):\n",
    "    c = s2[i]\n",
    "    if s1[i] != c:\n",
    "        #print(i, s1, s2)\n",
    "        print(s1)\n",
    "        res = 30\n",
    "        index = 0\n",
    "        for j in range(len(d[c])):\n",
    "            s1[d[c][j]] = s1[i]\n",
    "            s1[i] = c\n",
    "            r = aprox(s1, s2, res)\n",
    "            if r < res:\n",
    "                res = r\n",
    "                index = d[c][j]\n",
    "            s1[i] = s1[d[c][j]]\n",
    "            s1[d[c][j]] = c\n",
    "            \n",
    "            \n",
    "        #print(i, index)\n",
    "        #print(d)\n",
    "        #print()\n",
    "        s1[index] = s1[i]\n",
    "        d[s1[i]].remove(i)\n",
    "        d[s1[i]].append(index)\n",
    "        d[s1[i]].sort()\n",
    "        \n",
    "        s1[i] = c\n",
    "        d[c].remove(index)\n",
    "        d[c].append(i)\n",
    "        d[c].sort()\n",
    "        \n",
    "        \n",
    "        \n",
    "        k += 1\n",
    "    else:\n",
    "        d[s1[i]].remove(i)\n",
    "\n",
    "    if s1 == s2:\n",
    "        break\n",
    "        \n",
    "print(k)"
   ]
  },
  {
   "cell_type": "code",
   "execution_count": 41,
   "metadata": {},
   "outputs": [],
   "source": [
    "def aprox(s1, s2, seuil):\n",
    "    res = 0\n",
    "    for i in range(len(s1)):\n",
    "        res += s1[i] != s2[i]\n",
    "        if res >= seuil:\n",
    "            return 1000\n",
    "    return res"
   ]
  },
  {
   "cell_type": "code",
   "execution_count": 21,
   "metadata": {},
   "outputs": [
    {
     "data": {
      "text/plain": [
       "3"
      ]
     },
     "execution_count": 21,
     "metadata": {},
     "output_type": "execute_result"
    }
   ],
   "source": [
    "aprox(s1, s2)"
   ]
  }
 ],
 "metadata": {
  "kernelspec": {
   "display_name": "Python 3",
   "language": "python",
   "name": "python3"
  },
  "language_info": {
   "codemirror_mode": {
    "name": "ipython",
    "version": 3
   },
   "file_extension": ".py",
   "mimetype": "text/x-python",
   "name": "python",
   "nbconvert_exporter": "python",
   "pygments_lexer": "ipython3",
   "version": "3.6.4"
  }
 },
 "nbformat": 4,
 "nbformat_minor": 4
}
