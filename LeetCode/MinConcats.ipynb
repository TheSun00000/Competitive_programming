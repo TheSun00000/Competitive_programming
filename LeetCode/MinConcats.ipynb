{
 "cells": [
  {
   "cell_type": "code",
   "execution_count": 35,
   "metadata": {},
   "outputs": [],
   "source": [
    "s = 'DSYVSBIBDCI'\n",
    "p = 'AVYCISDB'"
   ]
  },
  {
   "cell_type": "code",
   "execution_count": 36,
   "metadata": {},
   "outputs": [],
   "source": [
    "# A\n",
    "# VYCISDB"
   ]
  },
  {
   "cell_type": "code",
   "execution_count": 37,
   "metadata": {},
   "outputs": [
    {
     "name": "stdout",
     "output_type": "stream",
     "text": [
      "0 0\n",
      "0 1\n",
      "0 2\n",
      "0 3\n",
      "0 4\n",
      "0 5\n",
      "0 6\n",
      "1 7\n",
      "1 0\n",
      "1 1\n",
      "1 2\n",
      "1 3\n",
      "1 4\n",
      "1 5\n",
      "2 6\n",
      "2 7\n",
      "2 0\n",
      "2 1\n",
      "2 2\n",
      "3 3\n",
      "3 4\n",
      "3 5\n",
      "3 6\n",
      "3 7\n",
      "3 0\n",
      "3 1\n",
      "4 2\n",
      "4 3\n",
      "4 4\n",
      "4 5\n",
      "5 6\n",
      "5 7\n",
      "6 0\n",
      "6 1\n",
      "6 2\n",
      "6 3\n",
      "6 4\n",
      "7 5\n",
      "7 6\n",
      "7 7\n",
      "8 0\n",
      "8 1\n",
      "8 2\n",
      "8 3\n",
      "8 4\n",
      "8 5\n",
      "8 6\n",
      "9 7\n",
      "9 0\n",
      "9 1\n",
      "9 2\n",
      "9 3\n",
      "10 4\n",
      "7\n"
     ]
    }
   ],
   "source": [
    "si = 0\n",
    "pi = 0\n",
    "n_p = 0\n",
    "\n",
    "while si < len(s):\n",
    "\n",
    "    cycle_p = pi\n",
    "\n",
    "    while True:\n",
    "        print(si, pi)\n",
    "        if pi == 0:\n",
    "            n_p += 1\n",
    "\n",
    "        if s[si] == p[pi]:\n",
    "            si += 1\n",
    "            pi += 1\n",
    "            pi = pi % len(p)\n",
    "            break\n",
    "\n",
    "        pi += 1\n",
    "        pi = pi % len(p)\n",
    "\n",
    "        if pi == cycle_p:\n",
    "            print('Letter not found')\n",
    "\n",
    "print(n_p)"
   ]
  },
  {
   "cell_type": "code",
   "execution_count": 46,
   "metadata": {},
   "outputs": [],
   "source": [
    "import random"
   ]
  },
  {
   "cell_type": "code",
   "execution_count": 60,
   "metadata": {},
   "outputs": [
    {
     "name": "stdout",
     "output_type": "stream",
     "text": [
      "LKILBIBIJKKJHFCKIILJKJBBLDCKGFJHKBGFFDKBCGLIKDDDGCKCIGGIIJIBDLJHIJKIFGLHIIBGCLGDLILGLHCJJCDKJLDHFIII\n"
     ]
    }
   ],
   "source": [
    "s = ''\n",
    "for _ in range(1000000):\n",
    "    s += 'ABCDFGHIJKLMN'[random.randint(1, 10)]\n",
    "s += '1'\n",
    "print(s[:100])"
   ]
  },
  {
   "cell_type": "code",
   "execution_count": 64,
   "metadata": {},
   "outputs": [
    {
     "name": "stdout",
     "output_type": "stream",
     "text": [
      "CPU times: user 279 µs, sys: 0 ns, total: 279 µs\n",
      "Wall time: 288 µs\n"
     ]
    },
    {
     "data": {
      "text/plain": [
       "1000000"
      ]
     },
     "execution_count": 64,
     "metadata": {},
     "output_type": "execute_result"
    }
   ],
   "source": [
    "%time s.find('1')"
   ]
  },
  {
   "cell_type": "code",
   "execution_count": 63,
   "metadata": {},
   "outputs": [
    {
     "name": "stdout",
     "output_type": "stream",
     "text": [
      "CPU times: user 47.7 ms, sys: 0 ns, total: 47.7 ms\n",
      "Wall time: 48.9 ms\n"
     ]
    },
    {
     "data": {
      "text/plain": [
       "-1"
      ]
     },
     "execution_count": 63,
     "metadata": {},
     "output_type": "execute_result"
    }
   ],
   "source": [
    "def find_(s, val):\n",
    "    for c in s:\n",
    "        if c == s:\n",
    "            return c\n",
    "    return -1\n",
    "\n",
    "%time find_(s, '1')"
   ]
  },
  {
   "cell_type": "code",
   "execution_count": 82,
   "metadata": {},
   "outputs": [],
   "source": [
    "s = 'ABC'\n",
    "p = 'CBA'"
   ]
  },
  {
   "cell_type": "code",
   "execution_count": 93,
   "metadata": {},
   "outputs": [
    {
     "name": "stdout",
     "output_type": "stream",
     "text": [
      "A 0\n",
      "B 2\n",
      "C 1\n",
      "3\n"
     ]
    }
   ],
   "source": [
    "si = 0\n",
    "pi = 0\n",
    "num_p = 1\n",
    "\n",
    "for sc in s:\n",
    "    if not sc in p:\n",
    "        print('return -1')\n",
    "\n",
    "for sc in s:\n",
    "    \n",
    "    while True:\n",
    "        index =  p[pi:].find(sc)\n",
    "        # print(sc, p[pi], index)\n",
    "\n",
    "        if index == -1:\n",
    "            pi = 0\n",
    "            num_p += 1\n",
    "        else:\n",
    "            pi = (pi + index + 1)%len(p)\n",
    "            if pi == 0:\n",
    "                num_p += 1\n",
    "            break\n",
    "\n",
    "print(num_p)"
   ]
  },
  {
   "cell_type": "code",
   "execution_count": 96,
   "metadata": {},
   "outputs": [
    {
     "name": "stdout",
     "output_type": "stream",
     "text": [
      "4\n"
     ]
    }
   ],
   "source": [
    "# cook your dish here\n",
    "s = 'AAA'\n",
    "p = 'A'\n",
    "\n",
    "def solve(s, p):\n",
    "    si = 0\n",
    "    pi = 0\n",
    "    num_p = 1\n",
    "    \n",
    "    for sc in s:\n",
    "        if not sc in p:\n",
    "            return -1\n",
    "    \n",
    "    for sc in s:\n",
    "        \n",
    "        while True:\n",
    "            index =  p[pi:].find(sc)\n",
    "            # print(sc, p[pi], index)\n",
    "    \n",
    "            if index == -1:\n",
    "                pi = 0\n",
    "                num_p += 1\n",
    "            else:\n",
    "                if (pi + index + 1) >= len(p):\n",
    "                    num_p += 1\n",
    "                pi = (pi + index + 1)%len(p)\n",
    "                \n",
    "                break\n",
    "            \n",
    "    return num_p\n",
    "       \n",
    "   \n",
    "print(solve(s, p))"
   ]
  }
 ],
 "metadata": {
  "interpreter": {
   "hash": "916dbcbb3f70747c44a77c7bcd40155683ae19c65e1c03b4aa3499c5328201f1"
  },
  "kernelspec": {
   "display_name": "Python 3.8.10 64-bit",
   "language": "python",
   "name": "python3"
  },
  "language_info": {
   "codemirror_mode": {
    "name": "ipython",
    "version": 3
   },
   "file_extension": ".py",
   "mimetype": "text/x-python",
   "name": "python",
   "nbconvert_exporter": "python",
   "pygments_lexer": "ipython3",
   "version": "3.8.10"
  },
  "orig_nbformat": 4
 },
 "nbformat": 4,
 "nbformat_minor": 2
}
