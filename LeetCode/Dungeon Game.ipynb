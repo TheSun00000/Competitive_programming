{
 "cells": [
  {
   "cell_type": "code",
   "execution_count": 41,
   "metadata": {},
   "outputs": [],
   "source": [
    "dungeon = [[-1,-1,-1], [-1,-1,-1], [-1,-1,-1]]\n",
    "           \n",
    "           \n",
    "# [-1,-1,-1]\n",
    "# [-1,-1,-1]\n",
    "# [-1,-1,-1]\n",
    "\n",
    "# [-1,5,4]\n",
    "# [-1,4,3]\n",
    "# [4,3,2]"
   ]
  },
  {
   "cell_type": "code",
   "execution_count": 42,
   "metadata": {},
   "outputs": [
    {
     "name": "stdout",
     "output_type": "stream",
     "text": [
      "[[6, 5, 4], [5, 4, 3], [4, 3, 2]]\n"
     ]
    }
   ],
   "source": [
    "n = len(dungeon)\n",
    "m = len(dungeon[0])\n",
    "\n",
    "if dungeon[n-1][m-1] <= 0:\n",
    "    dungeon[n-1][m-1] = 1 - dungeon[n-1][m-1]\n",
    "else:\n",
    "    dungeon[n-1][m-1] = 1\n",
    "\n",
    "\n",
    "for i in range(n-2, -1, -1):\n",
    "    a = dungeon[i+1][m-1] - dungeon[i][m-1]\n",
    "    if a > 0:\n",
    "        dungeon[i][m-1] = a\n",
    "    else:\n",
    "        dungeon[i][m-1] = 1\n",
    "    \n",
    "        \n",
    "for i in range(m-2, -1, -1):\n",
    "    a = dungeon[n-1][i+1] - dungeon[n-1][i]\n",
    "    if a > 0:\n",
    "        dungeon[n-1][i] = a\n",
    "    else:\n",
    "        dungeon[n-1][i] = 1\n",
    "\n",
    "            \n",
    "for i in range(n-2, -1, -1):\n",
    "    for j in range(m-2, -1, -1):\n",
    "        a = dungeon[i+1][j] - dungeon[i][j]\n",
    "        b = dungeon[i][j+1] - dungeon[i][j]\n",
    "        if a > 0 and b > 0:\n",
    "            dungeon[i][j] = min(a, b)\n",
    "        else:\n",
    "            dungeon[i][j] = 1\n",
    "            \n",
    "\n",
    "            \n",
    "print(dungeon)"
   ]
  }
 ],
 "metadata": {
  "kernelspec": {
   "display_name": "Python 3",
   "language": "python",
   "name": "python3"
  },
  "language_info": {
   "codemirror_mode": {
    "name": "ipython",
    "version": 3
   },
   "file_extension": ".py",
   "mimetype": "text/x-python",
   "name": "python",
   "nbconvert_exporter": "python",
   "pygments_lexer": "ipython3",
   "version": "3.6.4"
  }
 },
 "nbformat": 4,
 "nbformat_minor": 4
}
