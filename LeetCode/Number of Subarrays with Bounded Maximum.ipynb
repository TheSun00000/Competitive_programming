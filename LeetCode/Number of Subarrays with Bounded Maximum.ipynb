{
 "cells": [
  {
   "cell_type": "code",
   "execution_count": 52,
   "metadata": {},
   "outputs": [
    {
     "data": {
      "text/plain": [
       "'nums = [3,1,1,4,1,1,5,4,1,1,6]\\nleft = 3\\nright = 7\\n'"
      ]
     },
     "execution_count": 52,
     "metadata": {},
     "output_type": "execute_result"
    }
   ],
   "source": [
    "nums = [876,880,482,260,132,421,732,703,795,420,871,445,400,291,358,589,617,202,755,810,227,813,549,791,418,528,835,401,526,584,873,662,13,314,988,101,299,816,833,224,160,852,179,769,646,558,661,808,651,982,878,918,406,551,467,87,139,387,16,531,307,389,939,551,613,36,528,460,404,314,66,111,458,531,944,461,951,419,82,896,467,353,704,905,705,760,61,422,395,298,127,516,153,299,801,341,668,598,98,241]\n",
    "\n",
    "left = 658\n",
    "right = 719\n",
    "\"\"\"nums = [3,1,1,4,1,1,5,4,1,1,6]\n",
    "left = 3\n",
    "right = 7\n",
    "\"\"\""
   ]
  },
  {
   "cell_type": "code",
   "execution_count": 2,
   "metadata": {},
   "outputs": [
    {
     "name": "stdout",
     "output_type": "stream",
     "text": [
      "6\n"
     ]
    }
   ],
   "source": [
    "res = 0\n",
    "j = 0\n",
    "v = 1\n",
    "x = False\n",
    "for i in range(len(nums)):\n",
    "    if left <= nums[i] <= right:\n",
    "        \n",
    "        res += v \n",
    "        x = True\n",
    "        \n",
    "    elif nums[i] < left and x:\n",
    "        #res += v\n",
    "        pass\n",
    "    elif  right < nums[i]:\n",
    "        j = i+1\n",
    "        v = 1\n",
    "        x = False\n",
    "print(res)"
   ]
  },
  {
   "cell_type": "code",
   "execution_count": 53,
   "metadata": {},
   "outputs": [
    {
     "name": "stdout",
     "output_type": "stream",
     "text": [
      "0 ----------\n",
      "0 ----------\n",
      "0 ----------\n",
      "703 0 0 1 1\n",
      "1 ----------\n",
      "1 ----------\n",
      "1 ----------\n",
      "1 ----------\n",
      "1 ----------\n",
      "1 ----------\n",
      "1 ----------\n",
      "1 ----------\n",
      "662 0 0 1 2\n",
      "4 ----------\n",
      "4 ----------\n",
      "4 ----------\n",
      "4 ----------\n",
      "4 ----------\n",
      "661 2 0 3 7\n",
      "7 ----------\n",
      "7 ----------\n",
      "7 ----------\n",
      "7 ----------\n",
      "7 ----------\n",
      "7 ----------\n",
      "7 ----------\n",
      "7 ----------\n",
      "704 2 0 3 10\n",
      "10 ----------\n",
      "705 0 0 1 11\n",
      "11 ----------\n",
      "11 ----------\n",
      "668 1 0 2 13\n",
      "3\n",
      "19\n"
     ]
    }
   ],
   "source": [
    "#nums = [1,1,3,1,1,10,1,1,3,1,1]\n",
    "#nums = [1,3,1,1,4,1,1,5,4,1,1,6,1,1]\n",
    "#left = 3\n",
    "#right = 7\n",
    "\n",
    "\n",
    "res = 0\n",
    "\n",
    "valeur = 1\n",
    "old_valeur = 0\n",
    "\n",
    "last_i = -1\n",
    "\n",
    "for i in range(len(nums)):\n",
    "    \n",
    "    if left <= nums[i] <= right:\n",
    "        n = i - last_i - 1\n",
    "        valeur = old_valeur + n + 1\n",
    "        \n",
    "        res += valeur + old_valeur * n\n",
    "        print(nums[i], n,old_valeur, valeur, res)\n",
    "        \n",
    "        old_valeur = valeur\n",
    "        last_i = i\n",
    "    if nums[i] > right:\n",
    "        \n",
    "        if last_i != i:\n",
    "            n = i - last_i - 1\n",
    "            #print(n, old_valeur)\n",
    "            res += n * old_valeur\n",
    "        print(res,\"-\"*10)\n",
    "        old_valeur = 0\n",
    "        last_i = i\n",
    "        \n",
    "\n",
    " \n",
    "\n",
    "if last_i != i:\n",
    "    n = i - last_i\n",
    "    print(n)\n",
    "    res += n * old_valeur\n",
    "\n",
    "    \n",
    "        \n",
    "print(res)"
   ]
  }
 ],
 "metadata": {
  "kernelspec": {
   "display_name": "Python 3",
   "language": "python",
   "name": "python3"
  },
  "language_info": {
   "codemirror_mode": {
    "name": "ipython",
    "version": 3
   },
   "file_extension": ".py",
   "mimetype": "text/x-python",
   "name": "python",
   "nbconvert_exporter": "python",
   "pygments_lexer": "ipython3",
   "version": "3.6.4"
  }
 },
 "nbformat": 4,
 "nbformat_minor": 4
}
