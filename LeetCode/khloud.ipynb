{
 "cells": [
  {
   "cell_type": "code",
   "execution_count": 3,
   "id": "f72addac",
   "metadata": {},
   "outputs": [],
   "source": [
    "class Node():\n",
    "    def __init__(self, val=0, next=None):\n",
    "        self.val = val\n",
    "        self.next = next"
   ]
  },
  {
   "cell_type": "code",
   "execution_count": 23,
   "id": "8ef53ba9",
   "metadata": {},
   "outputs": [
    {
     "name": "stdout",
     "output_type": "stream",
     "text": [
      "5 --> 4 --> 3 --> 2 --> 1 --> "
     ]
    }
   ],
   "source": [
    "N = 12345\n",
    "\n",
    "# Calculer la taille du nombre N\n",
    "a = N\n",
    "L = 0\n",
    "while a != 0:\n",
    "    a = a // 10\n",
    "    L += 1\n",
    "\n",
    "    \n",
    "# La creation de la llc\n",
    "for i in range(L):\n",
    "    if i == 0:\n",
    "        head = Node()\n",
    "        head.val = ( N // (10**i) ) % 10\n",
    "        head.next = None\n",
    "        q = head\n",
    "    else:\n",
    "        p = Node()\n",
    "        p.val = ( N // (10**i) ) % 10\n",
    "        p.next = None\n",
    "        q.next = p\n",
    "        q = p\n",
    "\n",
    "        \n",
    "# l'afficahge de la llc\n",
    "R = head\n",
    "while R:\n",
    "    print(R.val, '-->', end=' ')\n",
    "    R = R.next"
   ]
  },
  {
   "cell_type": "code",
   "execution_count": 21,
   "id": "bd898c58",
   "metadata": {},
   "outputs": [
    {
     "data": {
      "text/plain": [
       "4"
      ]
     },
     "execution_count": 21,
     "metadata": {},
     "output_type": "execute_result"
    }
   ],
   "source": [
    "head.next.val"
   ]
  },
  {
   "cell_type": "code",
   "execution_count": 13,
   "id": "386f4a38",
   "metadata": {},
   "outputs": [
    {
     "name": "stdout",
     "output_type": "stream",
     "text": [
      "5 --> 4 --> 3 --> 2 --> 1 --> "
     ]
    }
   ],
   "source": []
  }
 ],
 "metadata": {
  "kernelspec": {
   "display_name": "Python 3 (ipykernel)",
   "language": "python",
   "name": "python3"
  },
  "language_info": {
   "codemirror_mode": {
    "name": "ipython",
    "version": 3
   },
   "file_extension": ".py",
   "mimetype": "text/x-python",
   "name": "python",
   "nbconvert_exporter": "python",
   "pygments_lexer": "ipython3",
   "version": "3.8.10"
  }
 },
 "nbformat": 4,
 "nbformat_minor": 5
}
