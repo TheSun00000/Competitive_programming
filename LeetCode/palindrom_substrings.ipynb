{
 "cells": [
  {
   "cell_type": "code",
   "execution_count": 1,
   "metadata": {},
   "outputs": [],
   "source": [
    "class Node:\n",
    "    def __init__(self, id, val):\n",
    "        self.id  = id\n",
    "        self.val = val\n",
    "        self.sons = []\n",
    "\n",
    "    def add_son(self, n):\n",
    "        self.sons.append(n)"
   ]
  },
  {
   "cell_type": "code",
   "execution_count": 2,
   "metadata": {},
   "outputs": [],
   "source": [
    "dxs = [0, 0, 1, -1]\n",
    "dys = [-1, 1, 0, 0]"
   ]
  },
  {
   "cell_type": "code",
   "execution_count": 72,
   "metadata": {},
   "outputs": [],
   "source": [
    "arr = [[1,6,12,1,3],[8,4,6,10,5],[12,11,7,12,2],[2,3,4,1,13],[14,6,0,14,13]]\n",
    "\n",
    "\n",
    "H, W = len(arr), len(arr[0])\n",
    "\n",
    "new_arr = [[0]*W for _ in range(H)]\n",
    "\n",
    "for i in range(H):\n",
    "    for j in range(W):\n",
    "        new_arr[i][j] = Node(i*W+j, arr[i][j])"
   ]
  },
  {
   "cell_type": "code",
   "execution_count": 73,
   "metadata": {},
   "outputs": [],
   "source": [
    "for i in range(H):\n",
    "    for j in range(W):\n",
    "        # print(i, j)\n",
    "        for dx, dy in zip(dxs, dys):\n",
    "            if (0<=i+dx<H) and (0<=j+dy<W) and (new_arr[i+dx][j+dy].val > new_arr[i][j].val):\n",
    "                new_arr[i][j].add_son(new_arr[i+dx][j+dy])\n",
    "\n"
   ]
  },
  {
   "cell_type": "code",
   "execution_count": 74,
   "metadata": {},
   "outputs": [
    {
     "name": "stdout",
     "output_type": "stream",
     "text": [
      "[1, 6, 12, 1, 3]\n",
      "[8, 4, 6, 10, 5]\n",
      "[12, 11, 7, 12, 2]\n",
      "[2, 3, 4, 1, 13]\n",
      "[14, 6, 0, 14, 13]\n"
     ]
    }
   ],
   "source": [
    "for _ in arr:print(_)"
   ]
  },
  {
   "cell_type": "code",
   "execution_count": 90,
   "metadata": {},
   "outputs": [],
   "source": [
    "def solve(node, n):\n",
    "\n",
    "    r = 0\n",
    "    for child in node.sons:\n",
    "        if dp[child.id] == 0:\n",
    "            r = max(solve(child, 0), r)\n",
    "        else:\n",
    "            r = max(dp[child.id], r)\n",
    "\n",
    "    \n",
    "    dp[node.id] = n + r + 1\n",
    "\n",
    "    return dp[node.id]"
   ]
  },
  {
   "cell_type": "code",
   "execution_count": 91,
   "metadata": {},
   "outputs": [],
   "source": [
    "# dp = [0] * W * H\n",
    "\n",
    "# solve(new_arr[2][2], 0)"
   ]
  },
  {
   "cell_type": "code",
   "execution_count": 92,
   "metadata": {},
   "outputs": [],
   "source": [
    "dp = [0] * W * H\n",
    "\n",
    "\n",
    "for i in range(H):\n",
    "    for j in range(W):\n",
    "        if not dp[new_arr[i][j].id]:\n",
    "            solve(new_arr[i][j], 0)"
   ]
  },
  {
   "cell_type": "code",
   "execution_count": 93,
   "metadata": {},
   "outputs": [
    {
     "name": "stdout",
     "output_type": "stream",
     "text": [
      "0 0 3\n",
      "0 1 2\n",
      "0 2 1\n",
      "0 3 5\n",
      "0 4 4\n",
      "1 0 2\n",
      "1 1 5\n",
      "1 2 4\n",
      "1 3 2\n",
      "1 4 3\n",
      "2 0 1\n",
      "2 1 2\n",
      "2 2 3\n",
      "2 3 1\n",
      "2 4 4\n",
      "3 0 6\n",
      "3 1 5\n",
      "3 2 4\n",
      "3 3 5\n",
      "3 4 1\n",
      "4 0 1\n",
      "4 1 2\n",
      "4 2 5\n",
      "4 3 1\n",
      "4 4 2\n"
     ]
    }
   ],
   "source": [
    "for i in range(len(dp)):\n",
    "    print(i//W, i%H, dp[i])"
   ]
  },
  {
   "cell_type": "code",
   "execution_count": 57,
   "metadata": {},
   "outputs": [
    {
     "data": {
      "text/plain": [
       "4"
      ]
     },
     "execution_count": 57,
     "metadata": {},
     "output_type": "execute_result"
    }
   ],
   "source": [
    "max(dp, key=lambda x:(x[0], x[1]))[1]"
   ]
  },
  {
   "cell_type": "code",
   "execution_count": null,
   "metadata": {},
   "outputs": [],
   "source": []
  }
 ],
 "metadata": {
  "interpreter": {
   "hash": "916dbcbb3f70747c44a77c7bcd40155683ae19c65e1c03b4aa3499c5328201f1"
  },
  "kernelspec": {
   "display_name": "Python 3.8.10 64-bit",
   "language": "python",
   "name": "python3"
  },
  "language_info": {
   "codemirror_mode": {
    "name": "ipython",
    "version": 3
   },
   "file_extension": ".py",
   "mimetype": "text/x-python",
   "name": "python",
   "nbconvert_exporter": "python",
   "pygments_lexer": "ipython3",
   "version": "3.8.10"
  },
  "orig_nbformat": 4
 },
 "nbformat": 4,
 "nbformat_minor": 2
}
