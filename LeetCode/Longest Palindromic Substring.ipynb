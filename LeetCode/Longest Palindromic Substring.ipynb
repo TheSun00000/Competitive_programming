{
 "cells": [
  {
   "cell_type": "code",
   "execution_count": 235,
   "metadata": {},
   "outputs": [],
   "source": [
    "s = \"aacabdkacaa\"\n",
    "s = \"aaaa\"\n",
    "\n",
    "palinds = []\n",
    "for i in range(len(s)-2):\n",
    "    if s[i] == s[i+2]:\n",
    "        palinds.insert(0, [i, s[i:i+3]])\n",
    "        \n",
    "    if s[i] == s[i+1]:\n",
    "        palinds.append([i, s[i:i+2]])\n",
    "\n",
    "if s[-2] == s[-1]:palinds.append([len(s)-2, s[-2:]])"
   ]
  },
  {
   "cell_type": "code",
   "execution_count": 236,
   "metadata": {},
   "outputs": [
    {
     "data": {
      "text/plain": [
       "[[1, 'aaa'], [0, 'aaa'], [0, 'aa'], [1, 'aa'], [2, 'aa']]"
      ]
     },
     "execution_count": 236,
     "metadata": {},
     "output_type": "execute_result"
    }
   ],
   "source": [
    "palinds"
   ]
  },
  {
   "cell_type": "code",
   "execution_count": 254,
   "metadata": {},
   "outputs": [],
   "source": [
    "#palinds = [[8, 'dyd'], [1, 'xdx'], [4, 'aa']]\n",
    "def resolve(p):\n",
    "    i = 1\n",
    "    c = \"\"\n",
    "    l = 0\n",
    "    p0_lenp1 = p[0] + len(p[1])\n",
    "    while True:\n",
    "        if p[0]-i >= 0 and p0_lenp1 + i <= len(s) and s[p[0] - i] == s[p0_lenp1 + i - 1]:\n",
    "            #c = s[p[0] - i] + c\n",
    "            i += 1\n",
    "        else:\n",
    "            break\n",
    "    \n",
    "    c = s[p[0] - i + 1:p[0]]\n",
    "            \n",
    "            \n",
    "    l_ = len(p[1]) + 2*(i-1)\n",
    "    if l_ > l:\n",
    "        res = c+p[1]+c[::-1]\n",
    "        l = l_\n",
    "\n",
    "    return res"
   ]
  },
  {
   "cell_type": "code",
   "execution_count": 260,
   "metadata": {},
   "outputs": [
    {
     "data": {
      "text/plain": [
       "'ddd'"
      ]
     },
     "execution_count": 260,
     "metadata": {},
     "output_type": "execute_result"
    }
   ],
   "source": [
    "res = \"aa\"\n",
    "r=\"ddd\"\n",
    "r if len(r) > len(res) else res"
   ]
  },
  {
   "cell_type": "markdown",
   "metadata": {},
   "source": [
    "---"
   ]
  },
  {
   "cell_type": "code",
   "execution_count": 182,
   "metadata": {},
   "outputs": [
    {
     "name": "stdout",
     "output_type": "stream",
     "text": [
      "[4, 'dxd'] c c\n"
     ]
    },
    {
     "ename": "NameError",
     "evalue": "name 'p1' is not defined",
     "output_type": "error",
     "traceback": [
      "\u001b[1;31m---------------------------------------------------------------------------\u001b[0m",
      "\u001b[1;31mNameError\u001b[0m                                 Traceback (most recent call last)",
      "\u001b[1;32m<ipython-input-182-10b837ef36e0>\u001b[0m in \u001b[0;36m<module>\u001b[1;34m\u001b[0m\n\u001b[0;32m     11\u001b[0m             \u001b[0mprint\u001b[0m\u001b[1;33m(\u001b[0m\u001b[0mp\u001b[0m\u001b[1;33m,\u001b[0m\u001b[0ms\u001b[0m\u001b[1;33m[\u001b[0m\u001b[0mp\u001b[0m\u001b[1;33m[\u001b[0m\u001b[1;36m0\u001b[0m\u001b[1;33m]\u001b[0m\u001b[1;33m-\u001b[0m\u001b[1;36m1\u001b[0m\u001b[1;33m]\u001b[0m\u001b[1;33m,\u001b[0m \u001b[0ms\u001b[0m\u001b[1;33m[\u001b[0m\u001b[0mp\u001b[0m\u001b[1;33m[\u001b[0m\u001b[1;36m0\u001b[0m\u001b[1;33m]\u001b[0m \u001b[1;33m+\u001b[0m \u001b[0mlen\u001b[0m\u001b[1;33m(\u001b[0m\u001b[0mp\u001b[0m\u001b[1;33m[\u001b[0m\u001b[1;36m1\u001b[0m\u001b[1;33m]\u001b[0m\u001b[1;33m)\u001b[0m\u001b[1;33m]\u001b[0m \u001b[1;33m)\u001b[0m\u001b[1;33m\u001b[0m\u001b[0m\n\u001b[0;32m     12\u001b[0m             \u001b[1;32mif\u001b[0m \u001b[0ms\u001b[0m\u001b[1;33m[\u001b[0m\u001b[0mp\u001b[0m\u001b[1;33m[\u001b[0m\u001b[1;36m0\u001b[0m\u001b[1;33m]\u001b[0m\u001b[1;33m-\u001b[0m\u001b[1;36m1\u001b[0m\u001b[1;33m]\u001b[0m \u001b[1;33m==\u001b[0m \u001b[0ms\u001b[0m\u001b[1;33m[\u001b[0m\u001b[0mp\u001b[0m\u001b[1;33m[\u001b[0m\u001b[1;36m0\u001b[0m\u001b[1;33m]\u001b[0m \u001b[1;33m+\u001b[0m \u001b[0mlen\u001b[0m\u001b[1;33m(\u001b[0m\u001b[0mp\u001b[0m\u001b[1;33m[\u001b[0m\u001b[1;36m1\u001b[0m\u001b[1;33m]\u001b[0m\u001b[1;33m)\u001b[0m\u001b[1;33m]\u001b[0m\u001b[1;33m:\u001b[0m\u001b[1;33m\u001b[0m\u001b[0m\n\u001b[1;32m---> 13\u001b[1;33m                 \u001b[1;32mif\u001b[0m \u001b[0mlen\u001b[0m\u001b[1;33m(\u001b[0m\u001b[0mp1\u001b[0m\u001b[1;33m)\u001b[0m \u001b[1;33m%\u001b[0m \u001b[1;36m2\u001b[0m \u001b[1;33m==\u001b[0m \u001b[1;36m0\u001b[0m\u001b[1;33m:\u001b[0m\u001b[1;33m\u001b[0m\u001b[0m\n\u001b[0m\u001b[0;32m     14\u001b[0m                     \u001b[0mnew_palinds\u001b[0m\u001b[1;33m.\u001b[0m\u001b[0mappend\u001b[0m\u001b[1;33m(\u001b[0m\u001b[1;33m(\u001b[0m\u001b[0mp\u001b[0m\u001b[1;33m[\u001b[0m\u001b[1;36m0\u001b[0m\u001b[1;33m]\u001b[0m\u001b[1;33m-\u001b[0m\u001b[1;36m1\u001b[0m\u001b[1;33m,\u001b[0m \u001b[0ms\u001b[0m\u001b[1;33m[\u001b[0m\u001b[0mp\u001b[0m\u001b[1;33m[\u001b[0m\u001b[1;36m0\u001b[0m\u001b[1;33m]\u001b[0m\u001b[1;33m-\u001b[0m\u001b[1;36m1\u001b[0m \u001b[1;33m:\u001b[0m \u001b[0mp\u001b[0m\u001b[1;33m[\u001b[0m\u001b[1;36m0\u001b[0m\u001b[1;33m]\u001b[0m \u001b[1;33m+\u001b[0m \u001b[0mlen\u001b[0m\u001b[1;33m(\u001b[0m\u001b[0mp\u001b[0m\u001b[1;33m[\u001b[0m\u001b[1;36m1\u001b[0m\u001b[1;33m]\u001b[0m\u001b[1;33m)\u001b[0m \u001b[1;33m+\u001b[0m \u001b[1;36m1\u001b[0m\u001b[1;33m]\u001b[0m\u001b[1;33m)\u001b[0m\u001b[1;33m)\u001b[0m\u001b[1;33m\u001b[0m\u001b[0m\n\u001b[0;32m     15\u001b[0m                 \u001b[1;32melse\u001b[0m\u001b[1;33m:\u001b[0m\u001b[1;33m\u001b[0m\u001b[0m\n",
      "\u001b[1;31mNameError\u001b[0m: name 'p1' is not defined"
     ]
    }
   ],
   "source": [
    "new_palinds = []\n",
    "prev_alinds = []\n",
    "    \n",
    "\n",
    "\n",
    "    \n",
    "while len(palinds) != 0:\n",
    "    new_palinds = []\n",
    "    for p in palinds:\n",
    "        if p[0] > 0 and p[0] + len(p[1]) < len(s):\n",
    "            print(p,s[p[0]-1], s[p[0] + len(p[1])] )\n",
    "            if s[p[0]-1] == s[p[0] + len(p[1])]:\n",
    "                if len(p1) % 2 == 0:\n",
    "                    new_palinds.append((p[0]-1, s[p[0]-1 : p[0] + len(p[1]) + 1]))\n",
    "                else:\n",
    "                    new_palinds.insert(0, (p[0]-1, s[p[0]-1 : p[0] + len(p[1]) + 1]))\n",
    "    prev_alinds = palinds[0][1]\n",
    "    palinds = new_palinds"
   ]
  },
  {
   "cell_type": "code",
   "execution_count": 159,
   "metadata": {},
   "outputs": [
    {
     "data": {
      "text/plain": [
       "'aca'"
      ]
     },
     "execution_count": 159,
     "metadata": {},
     "output_type": "execute_result"
    }
   ],
   "source": [
    "prev_alinds"
   ]
  },
  {
   "cell_type": "code",
   "execution_count": 195,
   "metadata": {},
   "outputs": [
    {
     "name": "stdout",
     "output_type": "stream",
     "text": [
      "[[7, 'aca'], [1, 'aca'], [0, 'aa'], [9, 'aa']]\n",
      "aca\n"
     ]
    }
   ],
   "source": [
    "palinds = [[7, 'aca'], [1, 'aca'], [0, 'aa'], [9, 'aa']]\n",
    "\n",
    "stop = False\n",
    "    \n",
    "while not stop:\n",
    "    stop = True\n",
    "    new_palinds = []\n",
    "    prev_alinds = palinds[0][1]\n",
    "    for p in palinds:\n",
    "        if p[0] > 0 and p[0] + len(p[1]) < len(s):\n",
    "            #print(p,s[p[0]-1], s[p[0] + len(p[1])] )\n",
    "            if s[p[0]-1] == s[p[0] + len(p[1])]:\n",
    "                stop = False\n",
    "                p[1] = s[p[0]-1] + p[1] + s[p[0]-1]\n",
    "                p[0] -= 1\n",
    "                \n",
    "    print(palinds)\n",
    "print(get_longest(palinds))"
   ]
  },
  {
   "cell_type": "code",
   "execution_count": 166,
   "metadata": {},
   "outputs": [
    {
     "name": "stdout",
     "output_type": "stream",
     "text": [
      "[[1, 2], [3, 4]]\n",
      "[[5, 2], [3, 4]]\n"
     ]
    }
   ],
   "source": [
    "n = [\n",
    "    [1,2],[3,4]\n",
    "]\n",
    "for i in n:\n",
    "    print(n)\n",
    "    i[0] = 5\n",
    "    "
   ]
  },
  {
   "cell_type": "code",
   "execution_count": 193,
   "metadata": {},
   "outputs": [],
   "source": [
    "def get_longest(array):\n",
    "    l = 0\n",
    "    for a in array:\n",
    "        if len(a[1]) > l:\n",
    "            l = len(a[1])\n",
    "            s = a[1]\n",
    "    return s"
   ]
  }
 ],
 "metadata": {
  "kernelspec": {
   "display_name": "Python 3",
   "language": "python",
   "name": "python3"
  },
  "language_info": {
   "codemirror_mode": {
    "name": "ipython",
    "version": 3
   },
   "file_extension": ".py",
   "mimetype": "text/x-python",
   "name": "python",
   "nbconvert_exporter": "python",
   "pygments_lexer": "ipython3",
   "version": "3.6.4"
  }
 },
 "nbformat": 4,
 "nbformat_minor": 4
}
