{
 "cells": [
  {
   "cell_type": "code",
   "execution_count": 54,
   "metadata": {},
   "outputs": [],
   "source": [
    "grid = [[1,2,3],[4,5,6]]\n",
    "dynGrid = [[100 for i in range(len(grid[0]))] for j in range(len(grid))]"
   ]
  },
  {
   "cell_type": "code",
   "execution_count": 55,
   "metadata": {},
   "outputs": [],
   "source": [
    "def parcour(x, y, n):\n",
    "    n = n + grid[x][y]\n",
    "    if n >= dynGrid[x][y]:\n",
    "        return True\n",
    "    else:\n",
    "        dynGrid[x][y] = n\n",
    "    \n",
    "    if (x, y) == (len(grid)-1, len(grid[0])-1):\n",
    "        return True\n",
    "    \n",
    "#     print(x, y, \"------------------\")\n",
    "#     for _ in grid:print(_)\n",
    "#     print()\n",
    "#     for _ in dynGrid:print(_)\n",
    "#     print(\"-------------------------\", end=\"\\n\\n\")\n",
    "    \n",
    "    if x < len(grid)-1:\n",
    "        down = parcour(x+1, y, n)\n",
    "        \n",
    "    if y < len(grid[0])-1:\n",
    "        right = parcour(x, y+1, n)\n",
    "    \n",
    "    \n",
    "        \n",
    "    #n = n - grid[x][y]"
   ]
  },
  {
   "cell_type": "code",
   "execution_count": 52,
   "metadata": {},
   "outputs": [],
   "source": [
    "n = 0\n",
    "parcour(0,0, 0)"
   ]
  },
  {
   "cell_type": "code",
   "execution_count": 53,
   "metadata": {},
   "outputs": [
    {
     "name": "stdout",
     "output_type": "stream",
     "text": [
      "[1, 2, 3]\n",
      "[4, 5, 6]\n",
      "\n",
      "[1, 3, 6]\n",
      "[5, 8, 12]\n"
     ]
    }
   ],
   "source": [
    "for _ in grid:print(_)\n",
    "print()\n",
    "for _ in dynGrid:print(_)"
   ]
  },
  {
   "cell_type": "code",
   "execution_count": 56,
   "metadata": {},
   "outputs": [],
   "source": [
    "def solve(grid):\n",
    "    grid = [[1,2,3],[4,5,6]]\n",
    "    dynGrid = [[100 for i in range(len(grid[0]))] for j in range(len(grid))]\n",
    "    \n",
    "    parcour(0,0,0)\n",
    "    return grid[len(grid)-1][len(grid[0])-1]"
   ]
  },
  {
   "cell_type": "code",
   "execution_count": 57,
   "metadata": {},
   "outputs": [
    {
     "data": {
      "text/plain": [
       "6"
      ]
     },
     "execution_count": 57,
     "metadata": {},
     "output_type": "execute_result"
    }
   ],
   "source": [
    "solve([[1,2,3],[4,5,6]])"
   ]
  },
  {
   "cell_type": "code",
   "execution_count": 123,
   "metadata": {},
   "outputs": [],
   "source": [
    "grid = [[1,3,1],[1,5,1],[4,2,1]]"
   ]
  },
  {
   "cell_type": "code",
   "execution_count": 120,
   "metadata": {},
   "outputs": [
    {
     "name": "stdout",
     "output_type": "stream",
     "text": [
      "\n"
     ]
    }
   ],
   "source": [
    "i, j = 0, 0\n",
    "while i < len(grid) and j < len(grid[0]):\n",
    "    x, y = i, j+1\n",
    "    while x < len(grid):\n",
    "        a, b = 100000, 100000\n",
    "        if x != 0:\n",
    "            a = grid[x-1][j]\n",
    "        if j != 0:\n",
    "            b = grid[x][j-1]\n",
    "        if (x, j) != (0, 0):\n",
    "            grid[x][j] = min(a, b)+grid[x][j]\n",
    "            \n",
    "        x += 1\n",
    "        \n",
    "    while y < len(grid[0]):\n",
    "        a, b = 100000, 100000\n",
    "        if i != 0:\n",
    "            a = grid[i-1][y]\n",
    "        if y != 0:\n",
    "            b = grid[i][y-1]\n",
    "        grid[i][y] = min(a, b)+grid[i][y]\n",
    "        \n",
    "        y += 1\n",
    "    \n",
    "    \n",
    "    i += 1\n",
    "    j += 1\n",
    "    \n",
    "print()"
   ]
  },
  {
   "cell_type": "code",
   "execution_count": 122,
   "metadata": {},
   "outputs": [
    {
     "data": {
      "text/plain": [
       "[[1, 5, 10], [3, 10, 16], [9, 17, 23]]"
      ]
     },
     "execution_count": 122,
     "metadata": {},
     "output_type": "execute_result"
    }
   ],
   "source": [
    "grid"
   ]
  },
  {
   "cell_type": "code",
   "execution_count": 159,
   "metadata": {},
   "outputs": [
    {
     "name": "stdout",
     "output_type": "stream",
     "text": [
      "2\n",
      "3\n",
      "[[1, 4, 5], [3, 8, 6], [7, 9, 7]]\n"
     ]
    }
   ],
   "source": [
    "grid = [[1,3,1],[1,5,1],[4,2,1]]\n",
    "\n",
    "i = 1\n",
    "while i < len(grid):\n",
    "    grid[i][0] += grid[i-1][0]\n",
    "    i += 1\n",
    "i = 1\n",
    "while i < len(grid[0]):\n",
    "    grid[0][i] += grid[0][i-1]\n",
    "    i += 1\n",
    "\n",
    "\n",
    "i, j = 1, 1\n",
    "while i < len(grid):\n",
    "    j = 0\n",
    "    while j < len(grid[0]):\n",
    "        grid[i][j] += min(grid[i][j-1], grid[i-1][j])\n",
    "        j += 1   \n",
    "    i += 1\n",
    "    print(i)\n",
    "    \n",
    "print(grid)"
   ]
  },
  {
   "cell_type": "code",
   "execution_count": null,
   "metadata": {},
   "outputs": [],
   "source": []
  }
 ],
 "metadata": {
  "kernelspec": {
   "display_name": "Python 3",
   "language": "python",
   "name": "python3"
  },
  "language_info": {
   "codemirror_mode": {
    "name": "ipython",
    "version": 3
   },
   "file_extension": ".py",
   "mimetype": "text/x-python",
   "name": "python",
   "nbconvert_exporter": "python",
   "pygments_lexer": "ipython3",
   "version": "3.6.4"
  }
 },
 "nbformat": 4,
 "nbformat_minor": 4
}
