{
 "cells": [
  {
   "cell_type": "code",
   "execution_count": 289,
   "metadata": {},
   "outputs": [],
   "source": [
    "fact_dp = {}\n",
    "fact_dp_2 = {}\n",
    "fact_dp_j2 = {}\n",
    "\n",
    "def fact(n):\n",
    "    if n in fact_dp:\n",
    "        return fact_dp[n]\n",
    "\n",
    "    factorial = 1\n",
    "    for i in range(n, 0, -1):\n",
    "        if i in fact_dp:\n",
    "            fact_dp[n] = factorial*fact_dp[i]\n",
    "            return fact_dp[n]\n",
    "        factorial = factorial*i\n",
    "    \n",
    "    fact_dp[n] = factorial\n",
    "    return fact_dp[n]\n",
    "\n",
    "def fact_2(n):\n",
    "\n",
    "    if n in fact_dp_2:\n",
    "        return fact_dp_2[n]\n",
    "\n",
    "    factorial = 1\n",
    "    for i in range(n, 0, -1):\n",
    "        if i in fact_dp_2:\n",
    "            fact_dp_2[n] = factorial*fact_dp_2[i]\n",
    "            return fact_dp_2[n]\n",
    "        factorial = factorial*i*i\n",
    "    \n",
    "    fact_dp_2[n] = factorial\n",
    "    return fact_dp_2[n]\n",
    "\n",
    "\n",
    "def fact_j2(n):\n",
    "\n",
    "    factorial = 1\n",
    "    for i in range(n//2+2, n+1):\n",
    "        factorial = factorial*i\n",
    "    return factorial"
   ]
  },
  {
   "cell_type": "code",
   "execution_count": 277,
   "metadata": {},
   "outputs": [
    {
     "data": {
      "text/plain": [
       "1"
      ]
     },
     "execution_count": 277,
     "metadata": {},
     "output_type": "execute_result"
    }
   ],
   "source": [
    "fact_j2(2)"
   ]
  },
  {
   "cell_type": "code",
   "execution_count": 314,
   "metadata": {},
   "outputs": [],
   "source": [
    "par_num_dp = {}\n",
    "\n",
    "def par_num(n):\n",
    "    if not n in par_num_dp:\n",
    "        if n == 0:\n",
    "            par_num_dp[0] = 0\n",
    "        else:\n",
    "\n",
    "            res = 0\n",
    "            for i in range(n, 0, -1):\n",
    "                if i in par_num_dp:\n",
    "                    par_num_dp[n] = res + par_num_dp[i]\n",
    "                    return par_num_dp[n]\n",
    "                # res += (fact(2*i) // ( fact(i+1) * fact(i) )) % (10**9 + 7)\n",
    "                res += (fact_j2(2*i) // fact(i) ) % (10**9 + 7)\n",
    "                # par_num_dp[n] = (fact(2*n) // ( fact(n+1) * fact(n) ) + par_num(n-1))  % (10**9 + 7)\n",
    "\n",
    "            \n",
    "        par_num_dp[n] = res\n",
    "    return par_num_dp[n]"
   ]
  },
  {
   "cell_type": "code",
   "execution_count": 315,
   "metadata": {},
   "outputs": [
    {
     "name": "stderr",
     "output_type": "stream",
     "text": [
      " 56%|█████▋    | 5636/9999 [00:27<00:21, 201.37it/s]\n"
     ]
    },
    {
     "ename": "KeyboardInterrupt",
     "evalue": "",
     "output_type": "error",
     "traceback": [
      "\u001b[0;31m---------------------------------------------------------------------------\u001b[0m",
      "\u001b[0;31mKeyboardInterrupt\u001b[0m                         Traceback (most recent call last)",
      "\u001b[0;32m/tmp/ipykernel_24168/1397120421.py\u001b[0m in \u001b[0;36m<module>\u001b[0;34m\u001b[0m\n\u001b[1;32m      1\u001b[0m \u001b[0;32mfor\u001b[0m \u001b[0mi\u001b[0m \u001b[0;32min\u001b[0m \u001b[0mtqdm\u001b[0m\u001b[0;34m(\u001b[0m\u001b[0mrange\u001b[0m\u001b[0;34m(\u001b[0m\u001b[0;36m1\u001b[0m\u001b[0;34m,\u001b[0m\u001b[0;36m10000\u001b[0m\u001b[0;34m)\u001b[0m\u001b[0;34m)\u001b[0m\u001b[0;34m:\u001b[0m\u001b[0;34m\u001b[0m\u001b[0;34m\u001b[0m\u001b[0m\n\u001b[0;32m----> 2\u001b[0;31m     \u001b[0mpar_num\u001b[0m\u001b[0;34m(\u001b[0m\u001b[0mi\u001b[0m\u001b[0;34m)\u001b[0m\u001b[0;34m\u001b[0m\u001b[0;34m\u001b[0m\u001b[0m\n\u001b[0m\u001b[1;32m      3\u001b[0m     \u001b[0;31m# fact(20000)\u001b[0m\u001b[0;34m\u001b[0m\u001b[0;34m\u001b[0m\u001b[0;34m\u001b[0m\u001b[0m\n\u001b[1;32m      4\u001b[0m     \u001b[0;31m# fact(20000)\u001b[0m\u001b[0;34m\u001b[0m\u001b[0;34m\u001b[0m\u001b[0;34m\u001b[0m\u001b[0m\n",
      "\u001b[0;32m/tmp/ipykernel_24168/772952485.py\u001b[0m in \u001b[0;36mpar_num\u001b[0;34m(n)\u001b[0m\n\u001b[1;32m     13\u001b[0m                     \u001b[0;32mreturn\u001b[0m \u001b[0mpar_num_dp\u001b[0m\u001b[0;34m[\u001b[0m\u001b[0mn\u001b[0m\u001b[0;34m]\u001b[0m\u001b[0;34m\u001b[0m\u001b[0;34m\u001b[0m\u001b[0m\n\u001b[1;32m     14\u001b[0m                 \u001b[0;31m# res += (fact(2*i) // ( fact(i+1) * fact(i) )) % (10**9 + 7)\u001b[0m\u001b[0;34m\u001b[0m\u001b[0;34m\u001b[0m\u001b[0;34m\u001b[0m\u001b[0m\n\u001b[0;32m---> 15\u001b[0;31m                 \u001b[0mres\u001b[0m \u001b[0;34m+=\u001b[0m \u001b[0;34m(\u001b[0m\u001b[0mfact_j2\u001b[0m\u001b[0;34m(\u001b[0m\u001b[0;36m2\u001b[0m\u001b[0;34m*\u001b[0m\u001b[0mi\u001b[0m\u001b[0;34m)\u001b[0m \u001b[0;34m//\u001b[0m \u001b[0mfact\u001b[0m\u001b[0;34m(\u001b[0m\u001b[0mi\u001b[0m\u001b[0;34m)\u001b[0m \u001b[0;34m)\u001b[0m \u001b[0;34m%\u001b[0m \u001b[0;34m(\u001b[0m\u001b[0;36m10\u001b[0m\u001b[0;34m**\u001b[0m\u001b[0;36m9\u001b[0m \u001b[0;34m+\u001b[0m \u001b[0;36m7\u001b[0m\u001b[0;34m)\u001b[0m\u001b[0;34m\u001b[0m\u001b[0;34m\u001b[0m\u001b[0m\n\u001b[0m\u001b[1;32m     16\u001b[0m                 \u001b[0;31m# par_num_dp[n] = (fact(2*n) // ( fact(n+1) * fact(n) ) + par_num(n-1))  % (10**9 + 7)\u001b[0m\u001b[0;34m\u001b[0m\u001b[0;34m\u001b[0m\u001b[0;34m\u001b[0m\u001b[0m\n\u001b[1;32m     17\u001b[0m \u001b[0;34m\u001b[0m\u001b[0m\n",
      "\u001b[0;32m/tmp/ipykernel_24168/2925510215.py\u001b[0m in \u001b[0;36mfact_j2\u001b[0;34m(n)\u001b[0m\n\u001b[1;32m     37\u001b[0m     \u001b[0mfactorial\u001b[0m \u001b[0;34m=\u001b[0m \u001b[0;36m1\u001b[0m\u001b[0;34m\u001b[0m\u001b[0;34m\u001b[0m\u001b[0m\n\u001b[1;32m     38\u001b[0m     \u001b[0;32mfor\u001b[0m \u001b[0mi\u001b[0m \u001b[0;32min\u001b[0m \u001b[0mrange\u001b[0m\u001b[0;34m(\u001b[0m\u001b[0mn\u001b[0m\u001b[0;34m//\u001b[0m\u001b[0;36m2\u001b[0m\u001b[0;34m+\u001b[0m\u001b[0;36m2\u001b[0m\u001b[0;34m,\u001b[0m \u001b[0mn\u001b[0m\u001b[0;34m+\u001b[0m\u001b[0;36m1\u001b[0m\u001b[0;34m)\u001b[0m\u001b[0;34m:\u001b[0m\u001b[0;34m\u001b[0m\u001b[0;34m\u001b[0m\u001b[0m\n\u001b[0;32m---> 39\u001b[0;31m         \u001b[0mfactorial\u001b[0m \u001b[0;34m=\u001b[0m \u001b[0mfactorial\u001b[0m\u001b[0;34m*\u001b[0m\u001b[0mi\u001b[0m\u001b[0;34m\u001b[0m\u001b[0;34m\u001b[0m\u001b[0m\n\u001b[0m\u001b[1;32m     40\u001b[0m     \u001b[0;32mreturn\u001b[0m \u001b[0mfactorial\u001b[0m\u001b[0;34m\u001b[0m\u001b[0;34m\u001b[0m\u001b[0m\n",
      "\u001b[0;31mKeyboardInterrupt\u001b[0m: "
     ]
    }
   ],
   "source": [
    "for i in tqdm(range(1,10000)):\n",
    "    par_num(i)\n",
    "    # fact(20000)\n",
    "    # fact(20000)"
   ]
  },
  {
   "cell_type": "code",
   "execution_count": 281,
   "metadata": {},
   "outputs": [
    {
     "data": {
      "text/plain": [
       "4"
      ]
     },
     "execution_count": 281,
     "metadata": {},
     "output_type": "execute_result"
    }
   ],
   "source": [
    "par_num(2)"
   ]
  },
  {
   "cell_type": "code",
   "execution_count": 36,
   "metadata": {},
   "outputs": [
    {
     "name": "stdout",
     "output_type": "stream",
     "text": [
      "5\n"
     ]
    }
   ],
   "source": [
    "# calculate number of balanced parantheses:\n",
    "def third(l, r):\n",
    "    sub_s = s[l-1:r]\n",
    "    n = min(sub_s.count('('), sub_s.count(')'))\n",
    "    # print(sub_s, n)\n",
    "    print(par_num(n))\n",
    "\n",
    "third(1,6)"
   ]
  },
  {
   "cell_type": "code",
   "execution_count": 84,
   "metadata": {},
   "outputs": [
    {
     "data": {
      "text/plain": [
       "'cbad'"
      ]
     },
     "execution_count": 84,
     "metadata": {},
     "output_type": "execute_result"
    }
   ],
   "source": [
    "def second(l, r):\n",
    "    return s[:l-1] + s[l-1: r][::-1] + s[r:]\n",
    "\n",
    "s = 'abcd'\n",
    "second(1, 3)"
   ]
  },
  {
   "cell_type": "code",
   "execution_count": 103,
   "metadata": {},
   "outputs": [
    {
     "data": {
      "text/plain": [
       "')()('"
      ]
     },
     "execution_count": 103,
     "metadata": {},
     "output_type": "execute_result"
    }
   ],
   "source": [
    "def first(p, x):\n",
    "    if p < 1:\n",
    "        return s\n",
    "    return s[:p-1] + x + s[p-1:]\n",
    "\n",
    "s = '()('\n",
    "first(1,')')"
   ]
  }
 ],
 "metadata": {
  "interpreter": {
   "hash": "916dbcbb3f70747c44a77c7bcd40155683ae19c65e1c03b4aa3499c5328201f1"
  },
  "kernelspec": {
   "display_name": "Python 3.8.10 64-bit",
   "language": "python",
   "name": "python3"
  },
  "language_info": {
   "codemirror_mode": {
    "name": "ipython",
    "version": 3
   },
   "file_extension": ".py",
   "mimetype": "text/x-python",
   "name": "python",
   "nbconvert_exporter": "python",
   "pygments_lexer": "ipython3",
   "version": "3.8.10"
  },
  "orig_nbformat": 4
 },
 "nbformat": 4,
 "nbformat_minor": 2
}
