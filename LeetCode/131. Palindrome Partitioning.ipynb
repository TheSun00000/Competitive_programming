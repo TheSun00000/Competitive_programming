{
 "cells": [
  {
   "cell_type": "code",
   "execution_count": 96,
   "id": "de0d15c1",
   "metadata": {},
   "outputs": [],
   "source": [
    "s = 'aa'\n",
    "L = len(s)\n",
    "dp = [ [False]*L for _ in range(L) ]\n",
    "\n",
    "for i in range(L):\n",
    "    dp[i][i] = True\n",
    "\n",
    "for i in range(0,L-1):\n",
    "    dp[i][i+1] = s[i] == s[i+1]\n",
    "    \n",
    "for i in range(2,L):\n",
    "    for j in range(L-i):\n",
    "        y, x = i+j, j\n",
    "        dp[x][y] = (s[x] == s[y]) and dp[x+1][y-1]\n",
    "        \n"
   ]
  },
  {
   "cell_type": "code",
   "execution_count": 94,
   "id": "7e0f1d37",
   "metadata": {},
   "outputs": [],
   "source": [
    "res = []\n",
    "arr = []\n",
    "\n",
    "def solve(n, arr):\n",
    "    if n < L: \n",
    "        for j in range(n, L):\n",
    "            if dp[n][j]:\n",
    "                arr.append(s[n:j+1])\n",
    "                solve(j+1, arr)\n",
    "                arr.pop()\n",
    "    \n",
    "    else:\n",
    "        res.append(arr.copy())\n",
    "\n",
    "solve(0, arr)"
   ]
  },
  {
   "cell_type": "code",
   "execution_count": 95,
   "id": "21fbc78a",
   "metadata": {},
   "outputs": [
    {
     "data": {
      "text/plain": [
       "[['a', 'a'], ['aa']]"
      ]
     },
     "execution_count": 95,
     "metadata": {},
     "output_type": "execute_result"
    }
   ],
   "source": [
    "res"
   ]
  },
  {
   "cell_type": "code",
   "execution_count": 89,
   "id": "84df9f9b",
   "metadata": {},
   "outputs": [
    {
     "data": {
      "text/plain": [
       "[[True, False], [False, True]]"
      ]
     },
     "execution_count": 89,
     "metadata": {},
     "output_type": "execute_result"
    }
   ],
   "source": [
    "dp"
   ]
  }
 ],
 "metadata": {
  "kernelspec": {
   "display_name": "Python 3 (ipykernel)",
   "language": "python",
   "name": "python3"
  },
  "language_info": {
   "codemirror_mode": {
    "name": "ipython",
    "version": 3
   },
   "file_extension": ".py",
   "mimetype": "text/x-python",
   "name": "python",
   "nbconvert_exporter": "python",
   "pygments_lexer": "ipython3",
   "version": "3.8.10"
  }
 },
 "nbformat": 4,
 "nbformat_minor": 5
}
