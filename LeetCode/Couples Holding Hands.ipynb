{
 "cells": [
  {
   "cell_type": "code",
   "execution_count": 31,
   "metadata": {},
   "outputs": [],
   "source": [
    "row = [3,0,2,1,7,5,4,6]"
   ]
  },
  {
   "cell_type": "code",
   "execution_count": 53,
   "metadata": {},
   "outputs": [],
   "source": [
    "def ccc(row):\n",
    "    d = {}\n",
    "    for i in range(len(row)):\n",
    "        d[row[i]] = i\n",
    "    res = 0\n",
    "    print(row)\n",
    "    for i in range(0,len(row),2):\n",
    "        if row[i] // 2 != row[i+1] // 2:\n",
    "            if row[i] % 2 == 0:\n",
    "                c = row[i] + 1\n",
    "            else:\n",
    "                c = row[i] - 1\n",
    "\n",
    "            #row[i+1] = c\n",
    "            d[row[i+1]] = d[c]\n",
    "            row[d[c]] = row[i+1]\n",
    "            d[c] = i+1\n",
    "            res += 1\n",
    "            print(row)\n",
    "\n",
    "    return res\n"
   ]
  },
  {
   "cell_type": "code",
   "execution_count": 54,
   "metadata": {},
   "outputs": [
    {
     "name": "stdout",
     "output_type": "stream",
     "text": [
      "[3, 0, 2, 1, 7, 5, 4, 6]\n",
      "[3, 0, 0, 1, 7, 5, 4, 6]\n",
      "[3, 0, 0, 1, 7, 5, 4, 5]\n"
     ]
    },
    {
     "data": {
      "text/plain": [
       "2"
      ]
     },
     "execution_count": 54,
     "metadata": {},
     "output_type": "execute_result"
    }
   ],
   "source": [
    "ccc([3,0,2,1,7,5,4,6])"
   ]
  }
 ],
 "metadata": {
  "kernelspec": {
   "display_name": "Python 3",
   "language": "python",
   "name": "python3"
  },
  "language_info": {
   "codemirror_mode": {
    "name": "ipython",
    "version": 3
   },
   "file_extension": ".py",
   "mimetype": "text/x-python",
   "name": "python",
   "nbconvert_exporter": "python",
   "pygments_lexer": "ipython3",
   "version": "3.6.4"
  }
 },
 "nbformat": 4,
 "nbformat_minor": 4
}
