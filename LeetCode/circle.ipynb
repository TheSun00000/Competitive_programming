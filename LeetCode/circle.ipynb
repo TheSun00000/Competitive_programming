{
 "cells": [
  {
   "cell_type": "code",
   "execution_count": 69,
   "metadata": {},
   "outputs": [],
   "source": [
    "x1, y1 = (1, 2)\n",
    "x2, y2 = (3, 3)\n",
    "x3, y3 = (5, 7)\n",
    "\n",
    "x1, y1 = (1, 2)\n",
    "x2, y2 = (3, 4)\n",
    "x3, y3 = (3.5, 3.5)\n"
   ]
  },
  {
   "cell_type": "code",
   "execution_count": 70,
   "metadata": {},
   "outputs": [],
   "source": [
    "_31x = x3 - x1\n",
    "_21x = x2 - x1\n",
    "_31y = y3 - y1\n",
    "_21y = y2 - y1\n",
    "_1 = x1**2 + y1**2\n",
    "_2 = x2**2 + y2**2\n",
    "_3 = x3**2 + y3**2"
   ]
  },
  {
   "cell_type": "code",
   "execution_count": 71,
   "metadata": {},
   "outputs": [],
   "source": [
    "down = _31x * _21y - _21x * _31y\n",
    "up   = _31x * (_2 - _1) - _21x * (_3 - _1)\n",
    "y = 0.5 * (up / down)\n",
    "x = ( ( (_2 - _1)/2 ) - _21y*y ) / _21x"
   ]
  },
  {
   "cell_type": "code",
   "execution_count": 72,
   "metadata": {},
   "outputs": [
    {
     "data": {
      "text/plain": [
       "(2.25, 2.75)"
      ]
     },
     "execution_count": 72,
     "metadata": {},
     "output_type": "execute_result"
    }
   ],
   "source": [
    "x, y"
   ]
  },
  {
   "cell_type": "code",
   "execution_count": 74,
   "metadata": {},
   "outputs": [
    {
     "name": "stdout",
     "output_type": "stream",
     "text": [
      "9 2\n"
     ]
    }
   ],
   "source": [
    "a = 2\n",
    "b = 9\n",
    "c = a^b\n",
    "a, b = c^a, c^b\n",
    "print(a, b)"
   ]
  }
 ],
 "metadata": {
  "interpreter": {
   "hash": "916dbcbb3f70747c44a77c7bcd40155683ae19c65e1c03b4aa3499c5328201f1"
  },
  "kernelspec": {
   "display_name": "Python 3.8.10 64-bit",
   "language": "python",
   "name": "python3"
  },
  "language_info": {
   "codemirror_mode": {
    "name": "ipython",
    "version": 3
   },
   "file_extension": ".py",
   "mimetype": "text/x-python",
   "name": "python",
   "nbconvert_exporter": "python",
   "pygments_lexer": "ipython3",
   "version": "3.8.10"
  },
  "orig_nbformat": 4
 },
 "nbformat": 4,
 "nbformat_minor": 2
}
