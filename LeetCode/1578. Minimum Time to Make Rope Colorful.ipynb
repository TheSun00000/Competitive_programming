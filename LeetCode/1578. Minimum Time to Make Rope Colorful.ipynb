{
 "cells": [
  {
   "cell_type": "code",
   "execution_count": 57,
   "metadata": {},
   "outputs": [],
   "source": [
    "colors = \"aabaa\" + '_'\n",
    "neededTime = [1,2,3,4,1] + [None]"
   ]
  },
  {
   "cell_type": "code",
   "execution_count": 58,
   "metadata": {},
   "outputs": [
    {
     "name": "stdout",
     "output_type": "stream",
     "text": [
      "aa 0 2 3\n",
      "aab 1 3 3\n",
      "aaba 1 4 4\n",
      "aabaa 1 4 5\n",
      "aabaa_ 2 None None\n",
      "2\n"
     ]
    }
   ],
   "source": [
    "dp = 0\n",
    "max_, sum_ = 0, 0\n",
    "max_ = neededTime[0]\n",
    "sum_ = max_\n",
    "\n",
    "for i in range(len(colors)-1):\n",
    "    if colors[i] == colors[i+1]:\n",
    "        max_ = max(max_, neededTime[i+1])\n",
    "        sum_ += neededTime[i+1]\n",
    "    else:\n",
    "        dp += (sum_ - max_)\n",
    "        max_ = neededTime[i+1]\n",
    "        sum_ = max_\n",
    "    print(colors[:i+2], dp, max_, sum_)\n",
    "    \n",
    "\n",
    "print(dp)"
   ]
  },
  {
   "cell_type": "code",
   "execution_count": null,
   "metadata": {},
   "outputs": [],
   "source": []
  }
 ],
 "metadata": {
  "interpreter": {
   "hash": "916dbcbb3f70747c44a77c7bcd40155683ae19c65e1c03b4aa3499c5328201f1"
  },
  "kernelspec": {
   "display_name": "Python 3.8.10 64-bit",
   "language": "python",
   "name": "python3"
  },
  "language_info": {
   "codemirror_mode": {
    "name": "ipython",
    "version": 3
   },
   "file_extension": ".py",
   "mimetype": "text/x-python",
   "name": "python",
   "nbconvert_exporter": "python",
   "pygments_lexer": "ipython3",
   "version": "3.8.10"
  },
  "orig_nbformat": 4
 },
 "nbformat": 4,
 "nbformat_minor": 2
}
