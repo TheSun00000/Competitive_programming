{
 "cells": [
  {
   "cell_type": "code",
   "execution_count": 95,
   "metadata": {},
   "outputs": [],
   "source": [
    "class ListNode(object):\n",
    "    def __init__(self, val=0, next=None):\n",
    "        self.val = val\n",
    "        self.next = next\n",
    "    \n",
    "    def __str__(self):\n",
    "        res = str(self.val)\n",
    "        if self.next != None:\n",
    "            res += \" -> \"+str(self.next)\n",
    "        return res"
   ]
  },
  {
   "cell_type": "code",
   "execution_count": 146,
   "metadata": {},
   "outputs": [],
   "source": [
    "def list2Nodes(arr):\n",
    "    b = None\n",
    "    head = None\n",
    "    r = []\n",
    "    for i in range(len(arr)):\n",
    "        a = ListNode(arr[i])\n",
    "        r.append(a)\n",
    "        if i == 0:\n",
    "            head = a\n",
    "        if b != None:\n",
    "            b.next = a\n",
    "        b = a\n",
    "    return head, r"
   ]
  },
  {
   "cell_type": "code",
   "execution_count": 295,
   "metadata": {},
   "outputs": [
    {
     "name": "stdout",
     "output_type": "stream",
     "text": [
      "1 -> 2\n",
      "0 1\n"
     ]
    },
    {
     "ename": "AttributeError",
     "evalue": "'NoneType' object has no attribute 'val'",
     "output_type": "error",
     "traceback": [
      "\u001b[1;31m---------------------------------------------------------------------------\u001b[0m",
      "\u001b[1;31mAttributeError\u001b[0m                            Traceback (most recent call last)",
      "\u001b[1;32m<ipython-input-295-9843bdfb173c>\u001b[0m in \u001b[0;36m<module>\u001b[1;34m\u001b[0m\n\u001b[0;32m     15\u001b[0m \u001b[1;32mwhile\u001b[0m \u001b[1;36m1\u001b[0m\u001b[1;33m:\u001b[0m\u001b[1;33m\u001b[0m\u001b[0m\n\u001b[0;32m     16\u001b[0m     \u001b[1;32mif\u001b[0m \u001b[0mcnt\u001b[0m \u001b[1;33m%\u001b[0m \u001b[0mk\u001b[0m \u001b[1;33m==\u001b[0m \u001b[1;36m0\u001b[0m\u001b[1;33m:\u001b[0m\u001b[1;33m\u001b[0m\u001b[0m\n\u001b[1;32m---> 17\u001b[1;33m         \u001b[0mprint\u001b[0m\u001b[1;33m(\u001b[0m\u001b[0mcnt\u001b[0m\u001b[1;33m,\u001b[0m \u001b[0mp\u001b[0m\u001b[1;33m.\u001b[0m\u001b[0mval\u001b[0m\u001b[1;33m)\u001b[0m\u001b[1;33m\u001b[0m\u001b[0m\n\u001b[0m\u001b[0;32m     18\u001b[0m         \u001b[1;32mif\u001b[0m \u001b[0mcnt\u001b[0m \u001b[1;33m!=\u001b[0m \u001b[1;36m0\u001b[0m \u001b[1;32mand\u001b[0m \u001b[1;32mnot\u001b[0m \u001b[0mget_head\u001b[0m\u001b[1;33m:\u001b[0m\u001b[1;33m\u001b[0m\u001b[0m\n\u001b[0;32m     19\u001b[0m             \u001b[0mnew_head\u001b[0m \u001b[1;33m=\u001b[0m \u001b[0mq\u001b[0m\u001b[1;33m\u001b[0m\u001b[0m\n",
      "\u001b[1;31mAttributeError\u001b[0m: 'NoneType' object has no attribute 'val'"
     ]
    }
   ],
   "source": [
    "head, nodes = list2Nodes([1,2])\n",
    "print(head)\n",
    "k = 2\n",
    "\n",
    "p = head\n",
    "q = None\n",
    "sp1 = None\n",
    "sq1 = None\n",
    "sp2 = None\n",
    "sq2 = None\n",
    "cnt = 0\n",
    "\n",
    "get_head = False\n",
    "\n",
    "while 1:\n",
    "    if cnt % k == 0:\n",
    "        print(cnt, p.val)\n",
    "        if cnt != 0 and not get_head:\n",
    "            new_head = q\n",
    "            get_head = True\n",
    "        \n",
    "        if sp1 != None and sp2 != None:\n",
    "            sp1.next = q\n",
    "            sp1 = sp2\n",
    "            sq1 = sq2\n",
    "            sp2 = p\n",
    "            sq2 = q\n",
    "        elif sp1 == None:\n",
    "            sp1 = p\n",
    "            sq1 = q\n",
    "        else:\n",
    "            sp2 = p\n",
    "            sq2 = q\n",
    "            \n",
    "        if not next_k_exists(p, k-1):\n",
    "            if cnt != 0:\n",
    "                sp1.next = p\n",
    "            else:\n",
    "                new_head = head\n",
    "            break\n",
    "        \n",
    "        \n",
    "    if p == None:\n",
    "        break\n",
    "            \n",
    "\n",
    "    s = p.next\n",
    "    if cnt % k != 0 or cnt == 0:\n",
    "        p.next = q\n",
    "    else:\n",
    "        p.next = None\n",
    "    q = p\n",
    "    p = s\n",
    "    cnt += 1\n",
    "    \n",
    "    \n",
    "\n",
    "print(new_head)      "
   ]
  },
  {
   "cell_type": "code",
   "execution_count": 289,
   "metadata": {},
   "outputs": [],
   "source": [
    "def next_k_exists(node, k):\n",
    "    i = 0\n",
    "    while i < k:\n",
    "        #print(node.val)\n",
    "        node = node.next\n",
    "        if node == None:\n",
    "            return False\n",
    "        \n",
    "        i += 1\n",
    "    return True"
   ]
  }
 ],
 "metadata": {
  "kernelspec": {
   "display_name": "Python 3",
   "language": "python",
   "name": "python3"
  },
  "language_info": {
   "codemirror_mode": {
    "name": "ipython",
    "version": 3
   },
   "file_extension": ".py",
   "mimetype": "text/x-python",
   "name": "python",
   "nbconvert_exporter": "python",
   "pygments_lexer": "ipython3",
   "version": "3.6.4"
  }
 },
 "nbformat": 4,
 "nbformat_minor": 4
}
