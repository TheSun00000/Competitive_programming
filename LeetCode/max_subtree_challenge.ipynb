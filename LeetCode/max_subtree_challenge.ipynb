{
 "cells": [
  {
   "cell_type": "code",
   "execution_count": 1,
   "metadata": {},
   "outputs": [],
   "source": [
    "class TreeNode:\n",
    "    def __init__(self, val, left, right):\n",
    "        self.val = val\n",
    "        self.left = left\n",
    "        self.right = right\n",
    "\n",
    "    def left(self):\n",
    "        return self.left\n",
    "    \n",
    "    def right(self):\n",
    "        return self.right\n",
    "\n",
    "    def __str__(self):\n",
    "        return str(self.val)\n",
    "\n",
    "\n",
    "# L = [1,2,3,4,5,6,7,8,9]\n",
    "def list_to_tree(L):\n",
    "    pile = list()\n",
    "    root = TreeNode(L[0], None, None)\n",
    "    pile.append( root )\n",
    "\n",
    "    i = 0\n",
    "    while True:\n",
    "\n",
    "        node = pile.pop(0)\n",
    "\n",
    "        i += 1\n",
    "        if i < len(L):\n",
    "            left_node = TreeNode(L[i], None, None)\n",
    "            pile.append(left_node)\n",
    "            node.left = left_node\n",
    "        else:\n",
    "            break\n",
    "\n",
    "        i += 1\n",
    "        if i < len(L):\n",
    "            right_node = TreeNode(L[i], None, None)\n",
    "            pile.append(right_node)\n",
    "            node.right = right_node\n",
    "        else:\n",
    "            break\n",
    "\n",
    "    return root\n"
   ]
  },
  {
   "cell_type": "code",
   "execution_count": 39,
   "metadata": {},
   "outputs": [],
   "source": [
    "def maxPathSum(root):\n",
    "        \n",
    "    def solve(node):\n",
    "\n",
    "        if not node:\n",
    "            return 0, 0\n",
    "        \n",
    "        max_left,  max_left_root  = solve(node.left)\n",
    "        max_right, max_right_root = solve(node.right)\n",
    "\n",
    "        # print(node, max_left,  max_left_root, max_right, max_right_root)\n",
    "        \n",
    "        max_subtree_root = max(\n",
    "            max_left_root + max_right_root,\n",
    "            max_right_root,\n",
    "            max_left_root,\n",
    "            0\n",
    "        ) + node.val\n",
    "\n",
    "        max_subtree = max(\n",
    "            max_subtree_root,\n",
    "            max_left,\n",
    "            max_right\n",
    "        )\n",
    "        \n",
    "        # print(node, max_subtree, max_subtree_root)\n",
    "        return max_subtree, max_subtree_root\n",
    "        \n",
    "    \n",
    "    return solve(root)[0]"
   ]
  },
  {
   "cell_type": "code",
   "execution_count": 43,
   "metadata": {},
   "outputs": [
    {
     "data": {
      "text/plain": [
       "7"
      ]
     },
     "execution_count": 43,
     "metadata": {},
     "output_type": "execute_result"
    }
   ],
   "source": [
    "L = [-5,-1,-1,3,0, 2, 6]\n",
    "maxPathSum(\n",
    "    list_to_tree(L)\n",
    ")"
   ]
  },
  {
   "cell_type": "code",
   "execution_count": 10,
   "metadata": {},
   "outputs": [
    {
     "data": {
      "text/plain": [
       "[1, 2, 3, 4, 5, 6, 7, 8, 9]"
      ]
     },
     "execution_count": 10,
     "metadata": {},
     "output_type": "execute_result"
    }
   ],
   "source": [
    "list(range(1,n))"
   ]
  },
  {
   "cell_type": "code",
   "execution_count": 12,
   "metadata": {},
   "outputs": [
    {
     "data": {
      "text/plain": [
       "(45, 45)"
      ]
     },
     "execution_count": 12,
     "metadata": {},
     "output_type": "execute_result"
    }
   ],
   "source": [
    "n = 10\n",
    "sum(range(1,n)), (n)*(n-1)//2"
   ]
  }
 ],
 "metadata": {
  "interpreter": {
   "hash": "916dbcbb3f70747c44a77c7bcd40155683ae19c65e1c03b4aa3499c5328201f1"
  },
  "kernelspec": {
   "display_name": "Python 3.8.10 64-bit",
   "language": "python",
   "name": "python3"
  },
  "language_info": {
   "codemirror_mode": {
    "name": "ipython",
    "version": 3
   },
   "file_extension": ".py",
   "mimetype": "text/x-python",
   "name": "python",
   "nbconvert_exporter": "python",
   "pygments_lexer": "ipython3",
   "version": "3.8.10"
  },
  "orig_nbformat": 4
 },
 "nbformat": 4,
 "nbformat_minor": 2
}
