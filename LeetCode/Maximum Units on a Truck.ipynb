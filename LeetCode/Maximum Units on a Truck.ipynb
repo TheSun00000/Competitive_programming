{
 "cells": [
  {
   "cell_type": "code",
   "execution_count": 33,
   "metadata": {},
   "outputs": [],
   "source": [
    "boxTypes = [[1,3],[2,2],[3,1]]\n",
    "truckSize = 4"
   ]
  },
  {
   "cell_type": "code",
   "execution_count": 28,
   "metadata": {},
   "outputs": [
    {
     "data": {
      "text/plain": [
       "[[1, 3], [2, 2], [3, 1]]"
      ]
     },
     "execution_count": 28,
     "metadata": {},
     "output_type": "execute_result"
    }
   ],
   "source": [
    "boxesypes"
   ]
  },
  {
   "cell_type": "code",
   "execution_count": 29,
   "metadata": {},
   "outputs": [
    {
     "name": "stdout",
     "output_type": "stream",
     "text": [
      "8\n"
     ]
    }
   ],
   "source": [
    "units = 0\n",
    "boxesypes = sorted(boxTypes, key=lambda x: x[1], reverse=True)\n",
    "for i in range(truckSize):\n",
    "    if boxesypes == []:break\n",
    "    units += boxesypes[0][1]\n",
    "    boxesypes[0][0] = boxesypes[0][0] - 1\n",
    "    if boxesypes[0][0] == 0:\n",
    "        boxesypes.pop(0)\n",
    "print(units)"
   ]
  },
  {
   "cell_type": "code",
   "execution_count": 38,
   "metadata": {},
   "outputs": [
    {
     "name": "stdout",
     "output_type": "stream",
     "text": [
      "[1, 3]\n",
      "3\n",
      "[2, 2]\n",
      "1\n",
      "[3, 1]\n",
      "0\n",
      "8\n"
     ]
    }
   ],
   "source": [
    "units = 0\n",
    "boxTypes = [[1,3],[2,2],[3,1]]\n",
    "truckSize = 4\n",
    "boxesypes = sorted(boxTypes, key=lambda x: x[1], reverse=True)\n",
    "\n",
    "for box in boxesypes:\n",
    "    print(box)\n",
    "    s = min(box[0],truckSize)\n",
    "    units += s*box[1]\n",
    "    truckSize -= s\n",
    "    print(truckSize)\n",
    "    if s == truckSize:\n",
    "        break\n",
    "    \n",
    "print(units)"
   ]
  }
 ],
 "metadata": {
  "kernelspec": {
   "display_name": "Python 3",
   "language": "python",
   "name": "python3"
  },
  "language_info": {
   "codemirror_mode": {
    "name": "ipython",
    "version": 3
   },
   "file_extension": ".py",
   "mimetype": "text/x-python",
   "name": "python",
   "nbconvert_exporter": "python",
   "pygments_lexer": "ipython3",
   "version": "3.6.4"
  }
 },
 "nbformat": 4,
 "nbformat_minor": 4
}
