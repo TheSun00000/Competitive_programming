{
 "cells": [
  {
   "cell_type": "code",
   "execution_count": 64,
   "metadata": {},
   "outputs": [],
   "source": [
    "class TreeNode:\n",
    "    def __init__(self, val, left, right):\n",
    "        self.val = val\n",
    "        self.left = left\n",
    "        self.right = right\n",
    "\n",
    "    def left(self):\n",
    "        return self.left\n",
    "    \n",
    "    def right(self):\n",
    "        return self.right\n",
    "\n",
    "    def __str__(self):\n",
    "        return str(self.val)"
   ]
  },
  {
   "cell_type": "code",
   "execution_count": 67,
   "metadata": {},
   "outputs": [],
   "source": [
    "# L = [1,2,3,4,5,6,7,8,9]\n",
    "def list_to_tree(L):\n",
    "    pile = list()\n",
    "    root = TreeNode(L[0], None, None)\n",
    "    pile.append( root )\n",
    "\n",
    "    i = 0\n",
    "    while True:\n",
    "\n",
    "        node = pile.pop(0)\n",
    "\n",
    "        i += 1\n",
    "        if i < len(L):\n",
    "            left_node = TreeNode(L[i], None, None)\n",
    "            pile.append(left_node)\n",
    "            node.left = left_node\n",
    "        else:\n",
    "            break\n",
    "\n",
    "        i += 1\n",
    "        if i < len(L):\n",
    "            right_node = TreeNode(L[i], None, None)\n",
    "            pile.append(right_node)\n",
    "            node.right = right_node\n",
    "        else:\n",
    "            break\n",
    "\n",
    "    return root\n",
    "\n"
   ]
  },
  {
   "cell_type": "code",
   "execution_count": 68,
   "metadata": {},
   "outputs": [],
   "source": [
    "root = list_to_tree([1, None, 2])"
   ]
  },
  {
   "cell_type": "code",
   "execution_count": 71,
   "metadata": {},
   "outputs": [
    {
     "name": "stdout",
     "output_type": "stream",
     "text": [
      "None\n"
     ]
    }
   ],
   "source": [
    "print(root.left)"
   ]
  }
 ],
 "metadata": {
  "interpreter": {
   "hash": "916dbcbb3f70747c44a77c7bcd40155683ae19c65e1c03b4aa3499c5328201f1"
  },
  "kernelspec": {
   "display_name": "Python 3.8.10 64-bit",
   "language": "python",
   "name": "python3"
  },
  "language_info": {
   "codemirror_mode": {
    "name": "ipython",
    "version": 3
   },
   "file_extension": ".py",
   "mimetype": "text/x-python",
   "name": "python",
   "nbconvert_exporter": "python",
   "pygments_lexer": "ipython3",
   "version": "3.8.10"
  },
  "orig_nbformat": 4
 },
 "nbformat": 4,
 "nbformat_minor": 2
}
