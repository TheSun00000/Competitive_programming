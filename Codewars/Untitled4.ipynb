{
 "cells": [
  {
   "cell_type": "code",
   "execution_count": 87,
   "metadata": {},
   "outputs": [],
   "source": [
    "image = '10 20 1 3 50 20 49'\n",
    "image = image.split()\n",
    "\n",
    "N_pair = int((len(image) - 1 ) / 2)\n",
    "values = [int(image[1 + 2*n]) for n in range(N_pair)]\n",
    "positions = [int(image[1 + 2*n+1]) for n in range(N_pair)]\n",
    "MAX_VALUE = sum(positions)\n",
    "N = int(image[0])\n",
    "\n",
    "c = 0\n",
    "accum_pos = []\n",
    "for n in range(N_pair):\n",
    "    c = c + positions[n]\n",
    "    accum_pos.append(c)"
   ]
  },
  {
   "cell_type": "code",
   "execution_count": 88,
   "metadata": {},
   "outputs": [
    {
     "name": "stdout",
     "output_type": "stream",
     "text": [
      "[20, 3, 20]\n",
      "[1, 50, 49]\n",
      "[1, 51, 100]\n"
     ]
    }
   ],
   "source": [
    "print(values)\n",
    "print(positions)\n",
    "print(accum_pos)"
   ]
  },
  {
   "cell_type": "code",
   "execution_count": 117,
   "metadata": {
    "scrolled": true
   },
   "outputs": [
    {
     "name": "stdout",
     "output_type": "stream",
     "text": [
      "3 1\n",
      "20 61\n"
     ]
    }
   ],
   "source": [
    "i = 0 #pointer on the whole image (0 -> length)\n",
    "c = 0 #to write repetitions\n",
    "prev = -1 #the previous value\n",
    "output =  str(N) + \" \"\n",
    "\n",
    "for pair in range(N_pair):\n",
    "    length, val = positions[pair], values[pair]\n",
    "    \n",
    "    #if length - (N - i%N) < 3*N:\n",
    "    output, i, c, prev = process(i, length, output, n, val, prev, c)\n",
    "    #print(i, c, prev, \",\", output)"
   ]
  },
  {
   "cell_type": "code",
   "execution_count": 118,
   "metadata": {},
   "outputs": [
    {
     "data": {
      "text/plain": [
       "'10 0 1 17 61 '"
      ]
     },
     "execution_count": 118,
     "metadata": {},
     "output_type": "execute_result"
    }
   ],
   "source": [
    "output"
   ]
  },
  {
   "cell_type": "code",
   "execution_count": 116,
   "metadata": {},
   "outputs": [],
   "source": [
    "def process(i, length, output, n, val, prev, c):\n",
    "    start = i\n",
    "    end = start + length\n",
    "    for j in range(start, end):\n",
    "        #process \n",
    "        adj = get_adj(j, n)\n",
    "        current_max = get_current_max(adj, val)\n",
    "        \n",
    "        if (current_max != prev) and (c != 0):\n",
    "            print(val, c)\n",
    "            output = output + str(prev) + \" \" + str(c) + \" \"\n",
    "            c = 0\n",
    "            \n",
    "        c += 1\n",
    "        #print(current_max)\n",
    "        prev = current_max\n",
    "        \n",
    "    i += length\n",
    "    return output, i, c, prev"
   ]
  },
  {
   "cell_type": "code",
   "execution_count": 92,
   "metadata": {},
   "outputs": [],
   "source": [
    "def get_current_max(adj, val):\n",
    "    current_max = -1\n",
    "    for v in adj:\n",
    "        cache = abs(values[v] - val)\n",
    "        if cache > current_max:\n",
    "            current_max = cache\n",
    "    return current_max"
   ]
  },
  {
   "cell_type": "code",
   "execution_count": 112,
   "metadata": {},
   "outputs": [
    {
     "data": {
      "text/plain": [
       "15"
      ]
     },
     "execution_count": 112,
     "metadata": {},
     "output_type": "execute_result"
    }
   ],
   "source": [
    "x"
   ]
  },
  {
   "cell_type": "code",
   "execution_count": 93,
   "metadata": {},
   "outputs": [],
   "source": [
    "def get_adj(i,n):\n",
    "    adj = []\n",
    "    if i < N: #the top\n",
    "        if i % N == 0: #on the left\n",
    "            if i+1 < MAX_VALUE  : adj.append(loc(i+1,n, 1))\n",
    "            if i+N < MAX_VALUE  : adj.append(loc(i+N,n, 1))\n",
    "            if i+N+1 < MAX_VALUE: adj.append(loc(i+N+1,n, 1))\n",
    "        elif i % N == N - 1: #on the right\n",
    "            if 0 <= i-1 : adj.append(loc(i-1,n, -1))\n",
    "            if i+N-1 < MAX_VALUE  : adj.append(loc(i+N-1,n, 1))\n",
    "            if i+N < MAX_VALUE  : adj.append(loc(i+N,n, 1))\n",
    "        else: #in the middle\n",
    "            if 0 <= i-1 : adj.append(loc(i-1,n, -1))\n",
    "            if i+N-1 < MAX_VALUE  : adj.append(loc(i+N-1,n, 1))\n",
    "            if i+N < MAX_VALUE  : adj.append(loc(i+N,n, 1))\n",
    "            if i+N+1 < MAX_VALUE: adj.append(loc(i+N+1,n, 1))\n",
    "            if i+1 < MAX_VALUE  : adj.append(loc(i+1,n, 1))\n",
    "            \n",
    "            \n",
    "        \n",
    "        \n",
    "    elif  MAX_VALUE - N <= i: #the bottom\n",
    "        if i % N == 0: #on the left\n",
    "            if i+1 < MAX_VALUE  : adj.append(loc(i+1,n, 1))\n",
    "            if i - N >= 0 : adj.append(loc(i - N, n, -1))\n",
    "            if i - N +1 >= 0 : adj.append(loc(i - N+1, n, -1))\n",
    "        elif i % N == N - 1: #on the right\n",
    "            if i-1 >= 0  : adj.append(loc(i-1,n, -1))\n",
    "            if i - N >= 0 : adj.append(loc(i - N, n, -1))\n",
    "            if i - N-1>= 0 : adj.append(loc(i - N-1, n, -1))\n",
    "        else: #in the middle\n",
    "            if i-1 >= 0  : adj.append(loc(i-1,n, -1))\n",
    "            if i - N-1>= 0  : adj.append(loc(i - N-1, n, -1))\n",
    "            if i+1 < MAX_VALUE  : adj.append(loc(i+1,n, 1))\n",
    "            if i - N +1>= 0 : adj.append(loc(i - N+1, n, -1))\n",
    "            if i - N >= 0 : adj.append(loc(i - N, n, -1))\n",
    "            \n",
    "\n",
    "    else:  # N < i <= MAX_VALUE - N #the middle\n",
    "        if i % N == 0: #on the left\n",
    "            if i - N >= 0 : adj.append(loc(i - N, n, -1))\n",
    "            if i - N +1>= 0 : adj.append(loc(i - N+1, n, -1))\n",
    "            if i+1 < MAX_VALUE  : adj.append(loc(i+1,n, 1))\n",
    "            if i+N < MAX_VALUE  : adj.append(loc(i+N,n, 1))\n",
    "            if i+N+1 < MAX_VALUE: adj.append(loc(i+N+1,n, 1))\n",
    "            \n",
    "        elif i % N == N - 1: #on the right\n",
    "            if 0 <= i-1 : adj.append(loc(i-1,n, -1))\n",
    "            if i+N-1 < MAX_VALUE  : adj.append(loc(i+N-1,n, 1))\n",
    "            if i+N < MAX_VALUE  : adj.append(loc(i+N,n, 1))\n",
    "            if i - N >= 0 : adj.append(loc(i - N, n, -1))\n",
    "            if i - N-1>= 0 : adj.append(loc(i - N-1, n, -1))\n",
    "        else: #in the middle\n",
    "            if i - N-1>= 0 : adj.append(loc(i - N-1, n, -1))\n",
    "            if i - N >= 0 : adj.append(loc(i - N, n, -1))\n",
    "            if i - N +1>= 0 : adj.append(loc(i - N+1, n, -1))\n",
    "            if i-1 >= 0  : adj.append(loc(i-1,n, -1))   \n",
    "            if i+1 < MAX_VALUE  : adj.append(loc(i+1,n, 1))\n",
    "            if i+N-1 < MAX_VALUE  : adj.append(loc(i+N-1,n, 1))\n",
    "            if i+N < MAX_VALUE  : adj.append(loc(i+N,n, 1))\n",
    "            if i+N+1 < MAX_VALUE: adj.append(loc(i+N+1,n, 1))\n",
    "            \n",
    "            \n",
    "    \n",
    "    return adj"
   ]
  },
  {
   "cell_type": "code",
   "execution_count": 94,
   "metadata": {},
   "outputs": [],
   "source": [
    "def loc(i,n, mode):\n",
    "    if mode == -1:\n",
    "        while n != -1:\n",
    "            #print(i, accum_pos[n], n)\n",
    "            if (n == 0) or (i >= accum_pos[n-1]):\n",
    "                return n\n",
    "            else:\n",
    "                n = n - 1\n",
    "        return -1\n",
    "    else:\n",
    "        while n != len(accum_pos):\n",
    "            #print(i, accum_pos[n], n)\n",
    "            if i < accum_pos[n]:\n",
    "                return n\n",
    "            else:\n",
    "                n = n + 1\n",
    "        return -1"
   ]
  },
  {
   "cell_type": "code",
   "execution_count": 95,
   "metadata": {},
   "outputs": [
    {
     "data": {
      "text/plain": [
       "[1, 1, 1]"
      ]
     },
     "execution_count": 95,
     "metadata": {},
     "output_type": "execute_result"
    }
   ],
   "source": [
    "get_adj(0, 0)"
   ]
  }
 ],
 "metadata": {
  "kernelspec": {
   "display_name": "Python 3",
   "language": "python",
   "name": "python3"
  },
  "language_info": {
   "codemirror_mode": {
    "name": "ipython",
    "version": 3
   },
   "file_extension": ".py",
   "mimetype": "text/x-python",
   "name": "python",
   "nbconvert_exporter": "python",
   "pygments_lexer": "ipython3",
   "version": "3.6.4"
  }
 },
 "nbformat": 4,
 "nbformat_minor": 4
}
