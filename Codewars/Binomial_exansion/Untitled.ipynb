{
 "cells": [
  {
   "cell_type": "code",
   "execution_count": 198,
   "metadata": {},
   "outputs": [],
   "source": [
    "import math"
   ]
  },
  {
   "cell_type": "code",
   "execution_count": 200,
   "metadata": {},
   "outputs": [
    {
     "ename": "AttributeError",
     "evalue": "module 'math' has no attribute 'comb'",
     "output_type": "error",
     "traceback": [
      "\u001b[1;31m---------------------------------------------------------------------------\u001b[0m",
      "\u001b[1;31mAttributeError\u001b[0m                            Traceback (most recent call last)",
      "\u001b[1;32m<ipython-input-200-0361517269cf>\u001b[0m in \u001b[0;36m<module>\u001b[1;34m\u001b[0m\n\u001b[1;32m----> 1\u001b[1;33m \u001b[0mmath\u001b[0m\u001b[1;33m.\u001b[0m\u001b[0mcomb\u001b[0m\u001b[1;33m\u001b[0m\u001b[0m\n\u001b[0m",
      "\u001b[1;31mAttributeError\u001b[0m: module 'math' has no attribute 'comb'"
     ]
    }
   ],
   "source": [
    "math.comb"
   ]
  },
  {
   "cell_type": "code",
   "execution_count": 65,
   "metadata": {},
   "outputs": [],
   "source": [
    "def get_digits(s):\n",
    "    for i in range(len(s)):\n",
    "        if  not (s[i].isdigit()):\n",
    "            break\n",
    "            \n",
    "            \n",
    "    if ( i == len(s)):\n",
    "        return s, \"\"\n",
    "    return s[0:i], s[i:]"
   ]
  },
  {
   "cell_type": "code",
   "execution_count": 68,
   "metadata": {},
   "outputs": [
    {
     "data": {
      "text/plain": [
       "('5', '5')"
      ]
     },
     "execution_count": 68,
     "metadata": {},
     "output_type": "execute_result"
    }
   ],
   "source": [
    "get_digits(\"55\")"
   ]
  },
  {
   "cell_type": "code",
   "execution_count": 31,
   "metadata": {},
   "outputs": [],
   "source": [
    "a = \"2f\"\n",
    "b = \"4\"\n",
    "p = 2\n",
    "res = \"\"\n",
    "\n",
    "\n",
    "for i in range(p):\n",
    "    #calcule a\n",
    "    #if ( \"-\" in a):\n",
    "    if i % 2 == 0:res += \"+\"\n",
    "    else:res += \"+\"\n",
    "\n",
    "    if len(a) == 1:\n",
    "        a_ = 1 + \n",
    "    a_, b_ = get_digits(a)\n",
    "    a_ = str(int(a_)**i)\n",
    "    try:a_ = str(int(a_)**i)\n",
    "    except:a_ = \"\"\n",
    "    b_ = b_+\"^\"+str(i)\n",
    "    res += a_+b_\n",
    "    \n",
    "    c_, d_ = get_digits(b)\n",
    "    try:c_ = str(int(c_)**(p-i))\n",
    "    except:c_ = \"\"\n",
    "        \n",
    "    d_ = d_+\"^\"+str(p-i)\n",
    "    res += c_+d_\n",
    "    \n",
    "    "
   ]
  },
  {
   "cell_type": "code",
   "execution_count": 29,
   "metadata": {},
   "outputs": [
    {
     "name": "stdout",
     "output_type": "stream",
     "text": [
      "+1f^04^3+2f^14^2+16f^24^1\n"
     ]
    }
   ],
   "source": [
    "print(res)"
   ]
  },
  {
   "cell_type": "code",
   "execution_count": 34,
   "metadata": {},
   "outputs": [
    {
     "data": {
      "text/plain": [
       "('1', '')"
      ]
     },
     "execution_count": 34,
     "metadata": {},
     "output_type": "execute_result"
    }
   ],
   "source": [
    "get_digits(\"14\")"
   ]
  },
  {
   "cell_type": "code",
   "execution_count": 88,
   "metadata": {},
   "outputs": [],
   "source": [
    "a = \"10f\"\n",
    "b = \"2\"\n",
    "p = 4\n",
    "res = \"\"\n",
    "\n",
    "\n",
    "for i in range(p):\n",
    "    if i % 2 == 0:res += \"+\"\n",
    "    else:\n",
    "        if ((\"-\" in a) and (\"-\" in b)):res += \"+\"\n",
    "        elif not ((\"-\" in a) or (\"-\" in b)):res += \"+\"\n",
    "        else:res += \"-\"\n",
    "    \n",
    "    if len(a) == 1:\n",
    "        a_d = 1\n",
    "        a_c = a\n",
    "    else:\n",
    "        a_d = a[:-1]\n",
    "        a_c = a[-1]\n",
    "    \n",
    "    a_d = int(a_d) ** i\n",
    "    a_c = a_c+\"^\"+str(i)\n",
    "    \n",
    "    b_d = b\n",
    "    b_d = int(b_d) ** (p-i)\n",
    "    \n",
    "    res += str(a_d*b_d)+a_c\n",
    "    "
   ]
  },
  {
   "cell_type": "code",
   "execution_count": 90,
   "metadata": {},
   "outputs": [
    {
     "data": {
      "text/plain": [
       "'+16f^0+80f^1+400f^2+2000f^3'"
      ]
     },
     "execution_count": 90,
     "metadata": {},
     "output_type": "execute_result"
    }
   ],
   "source": [
    "res"
   ]
  },
  {
   "cell_type": "code",
   "execution_count": 193,
   "metadata": {},
   "outputs": [],
   "source": [
    "def calculate(a_, b_, p):\n",
    "    res = \"\"\n",
    "    a, b = a_, b_\n",
    "    if \"-\" in a_: a = a_[1:]\n",
    "    if \"-\" in b_: b = b_[1:]\n",
    "        \n",
    "    for i in range(p, -1, -1):\n",
    "        if i % 2 == 0:res += \"+\"\n",
    "        else:\n",
    "            if ((\"-\" in a_) and (\"-\" in b_)):res += \"+\"\n",
    "            elif not ((\"-\" in a_) or (\"-\" in b_)):res += \"+\"\n",
    "            else:res += \"-\"\n",
    "\n",
    "        if len(a) == 1:\n",
    "            a_d = 1\n",
    "            a_c = a\n",
    "        else:\n",
    "            a_d = a[:-1]\n",
    "            a_c = a[-1]\n",
    "\n",
    "        a_d = int(a_d) ** i\n",
    "        a_c = a_c+\"^\"+str(i)\n",
    "\n",
    "        b_d = b\n",
    "        b_d = int(b_d) ** (p-i)\n",
    "        \n",
    "        \"\"\" if a_d*b_d != 1 or i == 0:\n",
    "            res += str(a_d*b_d)\n",
    "\n",
    "        if not (\"^0\" in a_c):\n",
    "            res += a_c        \n",
    "        \n",
    "        if ( (\"^1\" in a_c)) and (a_c[-2] == \"^\"):\n",
    "            res = res[:-2]\"\"\"\n",
    "    \n",
    "        res += str(a_d*b_d) + a_c\n",
    "    return res"
   ]
  },
  {
   "cell_type": "code",
   "execution_count": 194,
   "metadata": {},
   "outputs": [
    {
     "data": {
      "text/plain": [
       "'+8k^3+12k^2+18k^1+27k^0'"
      ]
     },
     "execution_count": 194,
     "metadata": {},
     "output_type": "execute_result"
    }
   ],
   "source": [
    "calculate(\"-2k\", \"-3\", 3)"
   ]
  },
  {
   "cell_type": "code",
   "execution_count": 118,
   "metadata": {},
   "outputs": [
    {
     "data": {
      "text/plain": [
       "'f'"
      ]
     },
     "execution_count": 118,
     "metadata": {},
     "output_type": "execute_result"
    }
   ],
   "source": [
    "def expand(expr):\n",
    "    expr = expr[1:]\n",
    "    if \"+\" in expr :\n",
    "        new_expr = expr.split(\"+\")\n",
    "        a = new_expr[0]\n",
    "        b = new_expr[1].split(\")\")[0]    \n",
    "    else :\n",
    "        n = expr.count(\"-\")\n",
    "        new_expr = expr.split(\"-\")\n",
    "        if n == 1 :\n",
    "            a = new_expr[0]\n",
    "            b = \"-\"+new_expr[1].split(\")\")[0]\n",
    "        else :\n",
    "            a = new_expr[1][-1]\n",
    "            a = expr[:expr.index(a)+1]\n",
    "            b = \"-\"+new_expr[2].split(\")\")[0]\n",
    "            \n",
    "    exp = expr.split(\"^\")[1]"
   ]
  }
 ],
 "metadata": {
  "kernelspec": {
   "display_name": "Python 3",
   "language": "python",
   "name": "python3"
  },
  "language_info": {
   "codemirror_mode": {
    "name": "ipython",
    "version": 3
   },
   "file_extension": ".py",
   "mimetype": "text/x-python",
   "name": "python",
   "nbconvert_exporter": "python",
   "pygments_lexer": "ipython3",
   "version": "3.6.4"
  }
 },
 "nbformat": 4,
 "nbformat_minor": 4
}
