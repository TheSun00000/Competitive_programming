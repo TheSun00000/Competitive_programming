{
 "cells": [
  {
   "cell_type": "code",
   "execution_count": 146,
   "metadata": {},
   "outputs": [],
   "source": [
    "import re"
   ]
  },
  {
   "cell_type": "code",
   "execution_count": 258,
   "metadata": {},
   "outputs": [],
   "source": [
    "def eval_part(nums, symb):\n",
    "    #division and mults\n",
    "    i = 0\n",
    "    while i < len(symb):\n",
    "        if symb[i] in \"/*\":\n",
    "            a = nums.pop(i)\n",
    "            b = nums.pop(i)\n",
    "            if symb[i] == \"*\":nums.insert(i, float(a)*float(b))\n",
    "            else:nums.insert(i, float(a)/float(b))\n",
    "\n",
    "            symb.pop(i)\n",
    "\n",
    "        else:\n",
    "            i = i + 1\n",
    "\n",
    "\n",
    "    #Additions and substructions        \n",
    "    if len(symb) != 0:\n",
    "        i = 0\n",
    "        while i < len(symb): \n",
    "            a = nums.pop(i)\n",
    "            b = nums.pop(i)\n",
    "            if symb[i] == \"+\":nums.insert(i, float(a)+float(b))\n",
    "            else:nums.insert(i, float(a)-float(b))                 \n",
    "            symb.pop(i)\n",
    "\n",
    "    return nums[0]"
   ]
  },
  {
   "cell_type": "code",
   "execution_count": 294,
   "metadata": {},
   "outputs": [],
   "source": [
    "def decompose(data):\n",
    "    nums = []\n",
    "    n = \"\"\n",
    "\n",
    "    #spliter\n",
    "    for c in data:\n",
    "        if c in \"()/*-+\":\n",
    "            if n != \"\":\n",
    "                nums.append(n)\n",
    "            n = \"\"\n",
    "            nums.append(c)\n",
    "        else:\n",
    "            n += c\n",
    "            \n",
    "    if n != \"\":\n",
    "        nums.append(n)\n",
    "\n",
    "    return nums"
   ]
  },
  {
   "cell_type": "code",
   "execution_count": 304,
   "metadata": {},
   "outputs": [
    {
     "name": "stdout",
     "output_type": "stream",
     "text": [
      "2\n"
     ]
    },
    {
     "data": {
      "text/plain": [
       "2.0"
      ]
     },
     "execution_count": 304,
     "metadata": {},
     "output_type": "execute_result"
    }
   ],
   "source": [
    "data = '1 + 1'.replace(\" \",\"\")\n",
    "print(eval(data))\n",
    "\n",
    "tab = decompose(data)\n",
    "\n",
    "par_lifo = []\n",
    "nums = []\n",
    "symb = []\n",
    "#print(tab)\n",
    "i = 0\n",
    "while i < len(tab):\n",
    "    c = tab[i]\n",
    "    #print(c, nums, symb)\n",
    "    if c.isnumeric() or (\".\" in c) or c == \"(\":\n",
    "        nums.append(c)\n",
    "        i += 1\n",
    "    elif c in \"+-/*\":\n",
    "        symb.append(c)\n",
    "        i += 1\n",
    "    else: #c == \")\" 'close string'\n",
    "        #get the index of the last \"(\" in nums\n",
    "        j = len(nums) - 1\n",
    "        while nums[j] != \"(\":j -= 1\n",
    "            \n",
    "        \n",
    "        #print(tab,nums[j+1:], symb[ len(symb) - len(nums[j+1:]) + 1 :])\n",
    "        res = eval_part(nums[j+1:], symb[ len(symb) - len(nums[j+1:]) + 1 :])\n",
    "        \n",
    "        \n",
    "        \n",
    "        for _ in range(len(symb[ len(symb) - len(nums[j+1:]) + 1 :])):symb.pop()\n",
    "        while nums[-1] != \"(\":nums.pop()\n",
    "        if nums[-1] == \"(\":nums[-1] = res\n",
    "        \n",
    "        i += 1\n",
    "    #print(\"nums\", nums)\n",
    "    #print(\"symb\", symb)\n",
    "    #print(\"\\n\")\n",
    "        \n",
    "eval_part(nums, symb)"
   ]
  },
  {
   "cell_type": "code",
   "execution_count": 305,
   "metadata": {},
   "outputs": [],
   "source": [
    "class Calculator(object):\n",
    "    def evaluate(self, string):\n",
    "        data = string.replace(\" \",\"\")\n",
    "\n",
    "        tab = decompose(data)\n",
    "\n",
    "        par_lifo = []\n",
    "        nums = []\n",
    "        symb = []\n",
    "\n",
    "        i = 0\n",
    "        while i < len(tab):\n",
    "            c = tab[i]\n",
    "            if c.isnumeric() or (\".\" in c) or c == \"(\":\n",
    "                nums.append(c)\n",
    "                i += 1\n",
    "            elif c in \"+-/*\":\n",
    "                symb.append(c)\n",
    "                i += 1\n",
    "            else: #c == \")\" 'close string'\n",
    "                #get the index of the last \"(\" in nums\n",
    "                j = len(nums) - 1\n",
    "                while nums[j] != \"(\":j -= 1\n",
    "\n",
    "\n",
    "                res = eval_part(nums[j+1:], symb[ len(symb) - len(nums[j+1:]) + 1 :])\n",
    "\n",
    "\n",
    "\n",
    "                for _ in range(len(symb[ len(symb) - len(nums[j+1:]) + 1 :])):symb.pop()\n",
    "                while nums[-1] != \"(\":nums.pop()\n",
    "                if nums[-1] == \"(\":nums[-1] = res\n",
    "\n",
    "                i += 1\n",
    "\n",
    "        return float(eval_part(nums, symb))\n",
    "        "
   ]
  },
  {
   "cell_type": "code",
   "execution_count": 310,
   "metadata": {},
   "outputs": [
    {
     "data": {
      "text/plain": [
       "8.0"
      ]
     },
     "execution_count": 310,
     "metadata": {},
     "output_type": "execute_result"
    }
   ],
   "source": [
    "c = Calculator()\n",
    "c.evaluate(\"2 + 3 * 4 / 3 - 6 / 3 * 3 + 8\")"
   ]
  }
 ],
 "metadata": {
  "kernelspec": {
   "display_name": "Python 3",
   "language": "python",
   "name": "python3"
  },
  "language_info": {
   "codemirror_mode": {
    "name": "ipython",
    "version": 3
   },
   "file_extension": ".py",
   "mimetype": "text/x-python",
   "name": "python",
   "nbconvert_exporter": "python",
   "pygments_lexer": "ipython3",
   "version": "3.6.4"
  }
 },
 "nbformat": 4,
 "nbformat_minor": 4
}
