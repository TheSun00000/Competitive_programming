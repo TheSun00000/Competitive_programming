{
 "cells": [
  {
   "cell_type": "code",
   "execution_count": 1,
   "metadata": {},
   "outputs": [],
   "source": [
    "import copy\n"
   ]
  },
  {
   "cell_type": "code",
   "execution_count": 23,
   "metadata": {},
   "outputs": [],
   "source": [
    "def XXXX(x, y, n, results, tab):\n",
    "    i = x + 1\n",
    "    while i < n:\n",
    "        tab[i][y] = \".\"\n",
    "        i += 1\n",
    "    \n",
    "    j = 0\n",
    "    while j < n:\n",
    "        if (x, j) != (x, y):\n",
    "            tab[x][j] = \".\"\n",
    "        j+=1\n",
    "\n",
    "    j, i = y, x\n",
    "    while (j < n) and ( i < n ):\n",
    "        if ((j, i) != (y, x)):\n",
    "            tab[i][j] = \".\"\n",
    "        j += 1\n",
    "        i += 1\n",
    "\n",
    "    \n",
    "    j, i = y, x\n",
    "    while (j >= 0) and ( i < n ):\n",
    "        if ((j, i) != (y, x)):\n",
    "            tab[i][j] = \".\"\n",
    "        j -= 1\n",
    "        i += 1\n",
    " \n",
    "\n",
    "    if x < n-1:\n",
    "        for i in range(0, n):\n",
    "            if tab[x+1][i] == \"Q\":\n",
    "                XXXX(x+1, i, n, results, copy.deepcopy(tab))\n",
    "    else:\n",
    "        \"\"\"for i in tab:\n",
    "            print(i)\n",
    "        print(\"--------\")\"\"\"\n",
    "        results.append(tab)\n",
    "        \n",
    "\n",
    "def solve(n):\n",
    "    mid = (n//2)*(n%2 == 0) + (n//2+1)*(n%2 == 1) \n",
    "    results = []\n",
    "    tab = [list(\"Q\" for _ in range(n)) for _ in range(n)]\n",
    "    for i in range(mid):\n",
    "        XXXX(0,i,n,results, copy.deepcopy(tab))\n",
    "    l = len(results)\n",
    "    return [ [  \"\".join(list(j)) for j in results[i]] for i in range(l)]"
   ]
  },
  {
   "cell_type": "code",
   "execution_count": 35,
   "metadata": {},
   "outputs": [
    {
     "name": "stdout",
     "output_type": "stream",
     "text": [
      "Wall time: 0 ns\n"
     ]
    }
   ],
   "source": [
    "%%time\n",
    "r = solve(6)"
   ]
  },
  {
   "cell_type": "code",
   "execution_count": 36,
   "metadata": {},
   "outputs": [
    {
     "name": "stdout",
     "output_type": "stream",
     "text": [
      ".Q....\n",
      "...Q..\n",
      ".....Q\n",
      "Q.....\n",
      "..Q...\n",
      "....Q.\n",
      "\n",
      "..Q...\n",
      ".....Q\n",
      ".Q....\n",
      "....Q.\n",
      "Q.....\n",
      "...Q..\n",
      "\n"
     ]
    }
   ],
   "source": [
    "for l in r:\n",
    "    for j in l:\n",
    "        print(j)\n",
    "    print()"
   ]
  },
  {
   "cell_type": "code",
   "execution_count": 20,
   "metadata": {},
   "outputs": [],
   "source": [
    "class Solution(object):\n",
    "    def XXXX(x, y, n, results, tab):\n",
    "        x_ = x + 1\n",
    "        while x_ < n:\n",
    "            tab[x_][y] = \".\"\n",
    "            x_ += 1\n",
    "\n",
    "        y_ = 0\n",
    "        while y_ < n:\n",
    "            if (x, y_) != (x, y):\n",
    "                tab[x][y_] = \".\"\n",
    "            y_+=1\n",
    "\n",
    "        y_, x_ = y, x\n",
    "        while (y_ < n) and ( x_ < n ):\n",
    "            if ((y_, x_) != (y, x)):\n",
    "                tab[x_][y_] = \".\"\n",
    "            y_ += 1\n",
    "            x_ += 1\n",
    "\n",
    "\n",
    "        y_, x_ = y, x\n",
    "        while (y_ >= 0) and ( x_ < n ):\n",
    "            if ((y_, x_) != (y, x)):\n",
    "                tab[x_][y_] = \".\"\n",
    "            y_ -= 1\n",
    "            x_ += 1\n",
    "\n",
    "\n",
    "        if x < n-1:\n",
    "            for i in range(0, n):\n",
    "                if tab[x+1][i] == \"Q\":\n",
    "                    XXXX(x+1, i, n, results, copy.deepcopy(tab))\n",
    "        else:\n",
    "            \"\"\"for i in tab:\n",
    "                print(i)\n",
    "            print(\"--------\")\"\"\"\n",
    "            results.append(tab)\n",
    "        \n",
    "    def solveNQueens(self, n):\n",
    "        \"\"\"\n",
    "        :type n: int\n",
    "        :rtype: List[List[str]]\n",
    "        \"\"\"\n",
    "        results = []\n",
    "        mid = (n//2)*(n%2 == 0) + (n//2+1)*(n%2 == 1) \n",
    "        tab = [list(\"Q\" for _ in range(mid)) for _ in range(n)]\n",
    "        for i in range(n):\n",
    "            XXXX(0,i,n,results, copy.deepcopy(tab))\n",
    "        l = len(results)\n",
    "        return [ [  \"\".join(list(j)) for j in results[i]] for i in range(l)]\n",
    "        \n",
    "        "
   ]
  },
  {
   "cell_type": "code",
   "execution_count": 21,
   "metadata": {},
   "outputs": [],
   "source": [
    "s = Solution()"
   ]
  },
  {
   "cell_type": "code",
   "execution_count": 22,
   "metadata": {
    "collapsed": true
   },
   "outputs": [
    {
     "ename": "IndexError",
     "evalue": "list assignment index out of range",
     "output_type": "error",
     "traceback": [
      "\u001b[1;31m---------------------------------------------------------------------------\u001b[0m",
      "\u001b[1;31mIndexError\u001b[0m                                Traceback (most recent call last)",
      "\u001b[1;32m<ipython-input-22-105cfab29eac>\u001b[0m in \u001b[0;36m<module>\u001b[1;34m\u001b[0m\n\u001b[1;32m----> 1\u001b[1;33m \u001b[0ms\u001b[0m\u001b[1;33m.\u001b[0m\u001b[0msolveNQueens\u001b[0m\u001b[1;33m(\u001b[0m\u001b[1;36m4\u001b[0m\u001b[1;33m)\u001b[0m\u001b[1;33m\u001b[0m\u001b[0m\n\u001b[0m",
      "\u001b[1;32m<ipython-input-20-ac9e53eb13e4>\u001b[0m in \u001b[0;36msolveNQueens\u001b[1;34m(self, n)\u001b[0m\n\u001b[0;32m     47\u001b[0m         \u001b[0mtab\u001b[0m \u001b[1;33m=\u001b[0m \u001b[1;33m[\u001b[0m\u001b[0mlist\u001b[0m\u001b[1;33m(\u001b[0m\u001b[1;34m\"Q\"\u001b[0m \u001b[1;32mfor\u001b[0m \u001b[0m_\u001b[0m \u001b[1;32min\u001b[0m \u001b[0mrange\u001b[0m\u001b[1;33m(\u001b[0m\u001b[0mmid\u001b[0m\u001b[1;33m)\u001b[0m\u001b[1;33m)\u001b[0m \u001b[1;32mfor\u001b[0m \u001b[0m_\u001b[0m \u001b[1;32min\u001b[0m \u001b[0mrange\u001b[0m\u001b[1;33m(\u001b[0m\u001b[0mn\u001b[0m\u001b[1;33m)\u001b[0m\u001b[1;33m]\u001b[0m\u001b[1;33m\u001b[0m\u001b[0m\n\u001b[0;32m     48\u001b[0m         \u001b[1;32mfor\u001b[0m \u001b[0mi\u001b[0m \u001b[1;32min\u001b[0m \u001b[0mrange\u001b[0m\u001b[1;33m(\u001b[0m\u001b[0mn\u001b[0m\u001b[1;33m)\u001b[0m\u001b[1;33m:\u001b[0m\u001b[1;33m\u001b[0m\u001b[0m\n\u001b[1;32m---> 49\u001b[1;33m             \u001b[0mXXXX\u001b[0m\u001b[1;33m(\u001b[0m\u001b[1;36m0\u001b[0m\u001b[1;33m,\u001b[0m\u001b[0mi\u001b[0m\u001b[1;33m,\u001b[0m\u001b[0mn\u001b[0m\u001b[1;33m,\u001b[0m\u001b[0mresults\u001b[0m\u001b[1;33m,\u001b[0m \u001b[0mcopy\u001b[0m\u001b[1;33m.\u001b[0m\u001b[0mdeepcopy\u001b[0m\u001b[1;33m(\u001b[0m\u001b[0mtab\u001b[0m\u001b[1;33m)\u001b[0m\u001b[1;33m)\u001b[0m\u001b[1;33m\u001b[0m\u001b[0m\n\u001b[0m\u001b[0;32m     50\u001b[0m         \u001b[0ml\u001b[0m \u001b[1;33m=\u001b[0m \u001b[0mlen\u001b[0m\u001b[1;33m(\u001b[0m\u001b[0mresults\u001b[0m\u001b[1;33m)\u001b[0m\u001b[1;33m\u001b[0m\u001b[0m\n\u001b[0;32m     51\u001b[0m         \u001b[1;32mreturn\u001b[0m \u001b[1;33m[\u001b[0m \u001b[1;33m[\u001b[0m  \u001b[1;34m\"\"\u001b[0m\u001b[1;33m.\u001b[0m\u001b[0mjoin\u001b[0m\u001b[1;33m(\u001b[0m\u001b[0mlist\u001b[0m\u001b[1;33m(\u001b[0m\u001b[0mj\u001b[0m\u001b[1;33m)\u001b[0m\u001b[1;33m)\u001b[0m \u001b[1;32mfor\u001b[0m \u001b[0mj\u001b[0m \u001b[1;32min\u001b[0m \u001b[0mresults\u001b[0m\u001b[1;33m[\u001b[0m\u001b[0mi\u001b[0m\u001b[1;33m]\u001b[0m\u001b[1;33m]\u001b[0m \u001b[1;32mfor\u001b[0m \u001b[0mi\u001b[0m \u001b[1;32min\u001b[0m \u001b[0mrange\u001b[0m\u001b[1;33m(\u001b[0m\u001b[0ml\u001b[0m\u001b[1;33m)\u001b[0m\u001b[1;33m]\u001b[0m\u001b[1;33m\u001b[0m\u001b[0m\n",
      "\u001b[1;32m<ipython-input-2-fadbbee6f48b>\u001b[0m in \u001b[0;36mXXXX\u001b[1;34m(x, y, n, results, tab)\u001b[0m\n\u001b[0;32m      8\u001b[0m     \u001b[1;32mwhile\u001b[0m \u001b[0mj\u001b[0m \u001b[1;33m<\u001b[0m \u001b[0mn\u001b[0m\u001b[1;33m:\u001b[0m\u001b[1;33m\u001b[0m\u001b[0m\n\u001b[0;32m      9\u001b[0m         \u001b[1;32mif\u001b[0m \u001b[1;33m(\u001b[0m\u001b[0mx\u001b[0m\u001b[1;33m,\u001b[0m \u001b[0mj\u001b[0m\u001b[1;33m)\u001b[0m \u001b[1;33m!=\u001b[0m \u001b[1;33m(\u001b[0m\u001b[0mx\u001b[0m\u001b[1;33m,\u001b[0m \u001b[0my\u001b[0m\u001b[1;33m)\u001b[0m\u001b[1;33m:\u001b[0m\u001b[1;33m\u001b[0m\u001b[0m\n\u001b[1;32m---> 10\u001b[1;33m             \u001b[0mtab\u001b[0m\u001b[1;33m[\u001b[0m\u001b[0mx\u001b[0m\u001b[1;33m]\u001b[0m\u001b[1;33m[\u001b[0m\u001b[0mj\u001b[0m\u001b[1;33m]\u001b[0m \u001b[1;33m=\u001b[0m \u001b[1;34m\".\"\u001b[0m\u001b[1;33m\u001b[0m\u001b[0m\n\u001b[0m\u001b[0;32m     11\u001b[0m         \u001b[0mj\u001b[0m\u001b[1;33m+=\u001b[0m\u001b[1;36m1\u001b[0m\u001b[1;33m\u001b[0m\u001b[0m\n\u001b[0;32m     12\u001b[0m \u001b[1;33m\u001b[0m\u001b[0m\n",
      "\u001b[1;31mIndexError\u001b[0m: list assignment index out of range"
     ]
    }
   ],
   "source": [
    "s.solveNQueens(4)"
   ]
  },
  {
   "cell_type": "code",
   "execution_count": 19,
   "metadata": {
    "scrolled": true
   },
   "outputs": [
    {
     "data": {
      "text/plain": [
       "3"
      ]
     },
     "execution_count": 19,
     "metadata": {},
     "output_type": "execute_result"
    }
   ],
   "source": [
    "k = 6\n",
    "(k//2)*(k%2 == 0) + (k//2+1)*(k%2 == 1)"
   ]
  },
  {
   "cell_type": "code",
   "execution_count": 15,
   "metadata": {},
   "outputs": [
    {
     "data": {
      "text/plain": [
       "1"
      ]
     },
     "execution_count": 15,
     "metadata": {},
     "output_type": "execute_result"
    }
   ],
   "source": []
  }
 ],
 "metadata": {
  "kernelspec": {
   "display_name": "Python 3",
   "language": "python",
   "name": "python3"
  },
  "language_info": {
   "codemirror_mode": {
    "name": "ipython",
    "version": 3
   },
   "file_extension": ".py",
   "mimetype": "text/x-python",
   "name": "python",
   "nbconvert_exporter": "python",
   "pygments_lexer": "ipython3",
   "version": "3.6.4"
  }
 },
 "nbformat": 4,
 "nbformat_minor": 4
}
