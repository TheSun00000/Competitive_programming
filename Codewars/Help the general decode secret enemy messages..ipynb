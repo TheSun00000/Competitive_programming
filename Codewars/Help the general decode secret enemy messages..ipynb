{
 "cells": [
  {
   "cell_type": "code",
   "execution_count": 2,
   "metadata": {},
   "outputs": [
    {
     "data": {
      "text/plain": [
       "'ABCDEFGHIJKLMNOPQRSTUVWXYZ'"
      ]
     },
     "execution_count": 2,
     "metadata": {},
     "output_type": "execute_result"
    }
   ],
   "source": [
    "\"abcdefghijklmnopqrstuvwxyz\".upper()"
   ]
  },
  {
   "cell_type": "code",
   "execution_count": 280,
   "metadata": {},
   "outputs": [],
   "source": [
    "dynamique = \"abcdefghijklmnopqrstuvwxyzABCDEFGHIJKLMNOPQRSTUVWXYZ0123456789.,? \"\n",
    "staticuq = \"!@#$%^&*()_+-\""
   ]
  },
  {
   "cell_type": "code",
   "execution_count": 281,
   "metadata": {},
   "outputs": [
    {
     "data": {
      "text/plain": [
       "33"
      ]
     },
     "execution_count": 281,
     "metadata": {},
     "output_type": "execute_result"
    }
   ],
   "source": [
    "dynamique.find(\"H\")"
   ]
  },
  {
   "cell_type": "code",
   "execution_count": 20,
   "metadata": {},
   "outputs": [],
   "source": [
    "s = \"bdhpF,82QsLirJejtNmzZKgnB3SwTyXG ?.6YIcflxVC5WE94UA1OoD70MkvRuPqHabdhpF,82QsLir\""
   ]
  },
  {
   "cell_type": "code",
   "execution_count": 335,
   "metadata": {},
   "outputs": [],
   "source": [
    "i = 1   #position of the letter in the code\n",
    "pos = 33 #position of the letter in the database"
   ]
  },
  {
   "cell_type": "code",
   "execution_count": 336,
   "metadata": {},
   "outputs": [
    {
     "name": "stdout",
     "output_type": "stream",
     "text": [
      "1 ?\n"
     ]
    }
   ],
   "source": [
    "print(i, x[(2**(pos+i)-1)%67])\n",
    "i += 1"
   ]
  },
  {
   "cell_type": "code",
   "execution_count": 176,
   "metadata": {},
   "outputs": [
    {
     "data": {
      "text/plain": [
       "66"
      ]
     },
     "execution_count": 176,
     "metadata": {},
     "output_type": "execute_result"
    }
   ],
   "source": [
    "len(x)"
   ]
  },
  {
   "cell_type": "code",
   "execution_count": 333,
   "metadata": {
    "collapsed": true
   },
   "outputs": [
    {
     "name": "stdout",
     "output_type": "stream",
     "text": [
      "7 h\n",
      "15 p\n",
      "23 x\n",
      "31 F\n",
      "39 N\n",
      "47 V\n",
      "55 3\n",
      "63 ,\n",
      "71 e\n",
      "79 m\n",
      "87 u\n",
      "95 C\n",
      "103 K\n",
      "111 S\n",
      "119 0\n",
      "127 8\n",
      "135 b\n",
      "143 j\n",
      "151 r\n",
      "159 z\n",
      "167 H\n",
      "175 P\n",
      "183 X\n",
      "191 5\n",
      "199  \n",
      "207 g\n",
      "215 o\n",
      "223 w\n",
      "231 E\n",
      "239 M\n",
      "247 U\n",
      "255 2\n",
      "263 .\n",
      "271 d\n",
      "279 l\n",
      "287 t\n",
      "295 B\n",
      "303 J\n",
      "311 R\n",
      "319 Z\n",
      "327 7\n",
      "335 a\n",
      "343 i\n",
      "351 q\n",
      "359 y\n",
      "367 G\n",
      "375 O\n",
      "383 W\n",
      "391 4\n",
      "399 ?\n",
      "407 f\n",
      "415 n\n",
      "423 v\n",
      "431 D\n",
      "439 L\n",
      "447 T\n",
      "455 1\n",
      "463 9\n",
      "471 c\n",
      "479 k\n",
      "487 s\n",
      "495 A\n",
      "503 I\n",
      "511 Q\n",
      "519 Y\n",
      "527 6\n"
     ]
    },
    {
     "ename": "IndexError",
     "evalue": "string index out of range",
     "output_type": "error",
     "traceback": [
      "\u001b[1;31m---------------------------------------------------------------------------\u001b[0m",
      "\u001b[1;31mIndexError\u001b[0m                                Traceback (most recent call last)",
      "\u001b[1;32m<ipython-input-333-39fdd51ee7e8>\u001b[0m in \u001b[0;36m<module>\u001b[1;34m\u001b[0m\n\u001b[0;32m      1\u001b[0m \u001b[0mi\u001b[0m \u001b[1;33m=\u001b[0m \u001b[1;36m7\u001b[0m\u001b[1;33m\u001b[0m\u001b[0m\n\u001b[0;32m      2\u001b[0m \u001b[1;32mfor\u001b[0m \u001b[0mi\u001b[0m \u001b[1;32min\u001b[0m \u001b[0mrange\u001b[0m\u001b[1;33m(\u001b[0m\u001b[1;36m7\u001b[0m\u001b[1;33m,\u001b[0m \u001b[1;36m1000\u001b[0m\u001b[1;33m,\u001b[0m \u001b[1;36m8\u001b[0m\u001b[1;33m)\u001b[0m\u001b[1;33m:\u001b[0m\u001b[1;33m\u001b[0m\u001b[0m\n\u001b[1;32m----> 3\u001b[1;33m     \u001b[0mprint\u001b[0m\u001b[1;33m(\u001b[0m\u001b[0mi\u001b[0m\u001b[1;33m,\u001b[0m \u001b[0mx\u001b[0m\u001b[1;33m[\u001b[0m\u001b[0mi\u001b[0m \u001b[1;33m%\u001b[0m \u001b[1;36m67\u001b[0m\u001b[1;33m]\u001b[0m\u001b[1;33m)\u001b[0m\u001b[1;33m\u001b[0m\u001b[0m\n\u001b[0m\u001b[0;32m      4\u001b[0m \u001b[1;33m\u001b[0m\u001b[0m\n",
      "\u001b[1;31mIndexError\u001b[0m: string index out of range"
     ]
    }
   ],
   "source": [
    "i = 7\n",
    "for i in range(7, 1000, 8):\n",
    "    print(i, x[i % 67])\n",
    "    "
   ]
  },
  {
   "cell_type": "code",
   "execution_count": 353,
   "metadata": {
    "scrolled": true
   },
   "outputs": [],
   "source": [
    "def search(letter, pos):\n",
    "    steps = 2**pos\n",
    "    start = 2**pos-1\n",
    "    for i, c in enumerate(dynamique):\n",
    "        v = x[((i+1)*steps - 1) % 67]\n",
    "        if letter == v:return x[i]"
   ]
  },
  {
   "cell_type": "code",
   "execution_count": 355,
   "metadata": {},
   "outputs": [
    {
     "data": {
      "text/plain": [
       "'H'"
      ]
     },
     "execution_count": 355,
     "metadata": {},
     "output_type": "execute_result"
    }
   ],
   "source": [
    "search(\"a\", 1)"
   ]
  },
  {
   "cell_type": "code",
   "execution_count": 361,
   "metadata": {},
   "outputs": [
    {
     "name": "stdout",
     "output_type": "stream",
     "text": [
      "Hello World!\n"
     ]
    }
   ],
   "source": [
    "res = \"\"\n",
    "for i, c in enumerate(\"atC5kcOuKAr!\"):\n",
    "    if c in \"!@#$%^&*()_+-\":\n",
    "        res += c\n",
    "    else:\n",
    "        res += search(c, i+1)\n",
    "\n",
    "print(res)"
   ]
  },
  {
   "cell_type": "code",
   "execution_count": 6,
   "metadata": {},
   "outputs": [],
   "source": [
    "dynamique = \"abcdefghijklmnopqrstuvwxyzABCDEFGHIJKLMNOPQRSTUVWXYZ0123456789.,? \"\n",
    "staticuq = \"!@#$%^&*()_+-\"\n",
    "\n",
    "def search(letter, pos):\n",
    "    steps = 2**pos\n",
    "    start = 2**pos-1\n",
    "    for i, c in enumerate(dynamique):\n",
    "        v = dynamique[((i+1)*steps - 1) % 67]\n",
    "        if letter == v:return dynamique[i]\n",
    "\n",
    "def decode(s):\n",
    "    res = \"\"\n",
    "    for i, c in enumerate(s):\n",
    "        if c in \"!@#$%^&*()_+-\":\n",
    "            res += c\n",
    "        else:\n",
    "            res += search(c, i+1)\n",
    "\n",
    "    return res"
   ]
  },
  {
   "cell_type": "code",
   "execution_count": 7,
   "metadata": {},
   "outputs": [
    {
     "data": {
      "text/plain": [
       "'Hello World!'"
      ]
     },
     "execution_count": 7,
     "metadata": {},
     "output_type": "execute_result"
    }
   ],
   "source": [
    "decode(\"atC5kcOuKAr!\")"
   ]
  }
 ],
 "metadata": {
  "kernelspec": {
   "display_name": "Python 3",
   "language": "python",
   "name": "python3"
  },
  "language_info": {
   "codemirror_mode": {
    "name": "ipython",
    "version": 3
   },
   "file_extension": ".py",
   "mimetype": "text/x-python",
   "name": "python",
   "nbconvert_exporter": "python",
   "pygments_lexer": "ipython3",
   "version": "3.6.4"
  }
 },
 "nbformat": 4,
 "nbformat_minor": 4
}
