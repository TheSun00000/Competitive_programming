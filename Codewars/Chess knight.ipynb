{
 "cells": [
  {
   "cell_type": "code",
   "execution_count": 39,
   "metadata": {},
   "outputs": [],
   "source": [
    "dist = 100\n",
    "def solve(x, y, d, seen):\n",
    "    global dist\n",
    "    #print(\" \"*d, x, y)\n",
    "    if not (x,y) in seen:\n",
    "        seen.append((x, y))\n",
    "        \n",
    "        if d > dist:\n",
    "            return d\n",
    "\n",
    "        if (x, y) == point:\n",
    "            if d < dist:\n",
    "                dist = d\n",
    "                return d\n",
    "        else:\n",
    "            res = []\n",
    "            if (x < 6) and (y < 7):\n",
    "                res.append(solve(x+2, y+1, d+1, seen.copy()))\n",
    "            if (x < 6) and (y > 0):\n",
    "                res.append(solve(x+2, y-1, d+1, seen.copy()))\n",
    "            if (x < 7) and (y < 6):\n",
    "                res.append(solve(x+1, y+2, d+1, seen.copy()))\n",
    "            if (x < 7) and (y > 1):\n",
    "                res.append(solve(x+1, y-2, d+1, seen.copy()))\n",
    "            if (x > 0) and (y < 6):\n",
    "                res.append(solve(x-1, y+2, d+1, seen.copy()))\n",
    "            if (x > 0) and (y > 1):\n",
    "                res.append(solve(x-1, y-2, d+1, seen.copy()))\n",
    "            if (x > 1) and (y < 7):\n",
    "                res.append(solve(x-2, y+1, d+1, seen.copy()))\n",
    "            if (x > 1) and (y < 0):\n",
    "                res.append(solve(x-2, y-1, d+1, seen.copy()))\n",
    "            if res:\n",
    "                #print(res)\n",
    "                return min(res)\n",
    "            return 100\n",
    "    return 100"
   ]
  },
  {
   "cell_type": "code",
   "execution_count": 60,
   "metadata": {
    "scrolled": true
   },
   "outputs": [
    {
     "name": "stdout",
     "output_type": "stream",
     "text": [
      "Wall time: 0 ns\n"
     ]
    },
    {
     "data": {
      "text/plain": [
       "2"
      ]
     },
     "execution_count": 60,
     "metadata": {},
     "output_type": "execute_result"
    }
   ],
   "source": [
    "%%time\n",
    "point = (5, 5)\n",
    "solve(8, 2, 0, [])"
   ]
  },
  {
   "cell_type": "code",
   "execution_count": 52,
   "metadata": {},
   "outputs": [
    {
     "data": {
      "text/plain": [
       "1679616"
      ]
     },
     "execution_count": 52,
     "metadata": {},
     "output_type": "execute_result"
    }
   ],
   "source": [
    "6**8"
   ]
  },
  {
   "cell_type": "code",
   "execution_count": 57,
   "metadata": {},
   "outputs": [],
   "source": [
    "sol = [\n",
    "    '13232345',\n",
    "    '24123434',\n",
    "    '21432345',\n",
    "    '32323434',\n",
    "    '23234345',\n",
    "    '34343454',\n",
    "    '43434545',\n",
    "    '54545456'\n",
    "]"
   ]
  },
  {
   "cell_type": "code",
   "execution_count": 55,
   "metadata": {},
   "outputs": [],
   "source": [
    "end = (5, 5)\n",
    "l = \"abcdefg\"\n",
    "start = (8, 2)\n",
    "im_start = (abs(end[0]-start[0]), abs(end[1]-start[1]))"
   ]
  },
  {
   "cell_type": "code",
   "execution_count": 59,
   "metadata": {},
   "outputs": [
    {
     "data": {
      "text/plain": [
       "'2'"
      ]
     },
     "execution_count": 59,
     "metadata": {},
     "output_type": "execute_result"
    }
   ],
   "source": [
    "sol[im_start[0]][ im_start[1]]"
   ]
  },
  {
   "cell_type": "code",
   "execution_count": 62,
   "metadata": {},
   "outputs": [
    {
     "data": {
      "text/plain": [
       "True"
      ]
     },
     "execution_count": 62,
     "metadata": {},
     "output_type": "execute_result"
    }
   ],
   "source": [
    "(1,2) == (1, 2)"
   ]
  }
 ],
 "metadata": {
  "kernelspec": {
   "display_name": "Python 3",
   "language": "python",
   "name": "python3"
  },
  "language_info": {
   "codemirror_mode": {
    "name": "ipython",
    "version": 3
   },
   "file_extension": ".py",
   "mimetype": "text/x-python",
   "name": "python",
   "nbconvert_exporter": "python",
   "pygments_lexer": "ipython3",
   "version": "3.6.4"
  }
 },
 "nbformat": 4,
 "nbformat_minor": 4
}
