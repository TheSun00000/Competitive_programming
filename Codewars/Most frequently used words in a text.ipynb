{
 "cells": [
  {
   "cell_type": "code",
   "execution_count": 21,
   "metadata": {},
   "outputs": [],
   "source": [
    "text = \"\"\"In a village of La Mancha, the name of which I have no desire to call to\n",
    "mind, there lived not long since one of those gentlemen that keep a lance\n",
    "in the lance-rack, an old buckler, a lean hack, and a greyhound for\n",
    "coursing. An olla of rather more beef than mutton, a salad on most\n",
    "nights, scraps on Saturdays, lentils on Fridays, and a pigeon or so extra\n",
    "on Sundays, made away with three-quarters of his income.\"\"\".lower()"
   ]
  },
  {
   "cell_type": "code",
   "execution_count": 22,
   "metadata": {},
   "outputs": [
    {
     "data": {
      "text/plain": [
       "'\\n'"
      ]
     },
     "execution_count": 22,
     "metadata": {},
     "output_type": "execute_result"
    }
   ],
   "source": [
    "text[72]"
   ]
  },
  {
   "cell_type": "code",
   "execution_count": 23,
   "metadata": {},
   "outputs": [],
   "source": [
    "import string\n",
    "#separators = string.punctuation + \" \" + \"\\n\" \n",
    "separators = '!#$%&\\()*+,-./:;<=>?@[\\\\]^_`{|}~ \\n'\n",
    "lowercase = string.ascii_lowercase"
   ]
  },
  {
   "cell_type": "code",
   "execution_count": 24,
   "metadata": {},
   "outputs": [
    {
     "data": {
      "text/plain": [
       "'!#$%&\\\\()*+,-./:;<=>?@[\\\\]^_`{|}~ \\n'"
      ]
     },
     "execution_count": 24,
     "metadata": {},
     "output_type": "execute_result"
    }
   ],
   "source": [
    "separators"
   ]
  },
  {
   "cell_type": "code",
   "execution_count": 25,
   "metadata": {},
   "outputs": [],
   "source": [
    "def parse(i):\n",
    "    #print(text)\n",
    "    res = \"\"\n",
    "\n",
    "    while (i <len(text) and text[i] in lowercase):\n",
    "        res += text[i]\n",
    "        i += 1\n",
    "    while (i <len(text) and text[i] in separators):\n",
    "        i += 1\n",
    "    \n",
    "    return i, res"
   ]
  },
  {
   "cell_type": "code",
   "execution_count": 26,
   "metadata": {},
   "outputs": [
    {
     "data": {
      "text/plain": [
       "412"
      ]
     },
     "execution_count": 26,
     "metadata": {},
     "output_type": "execute_result"
    }
   ],
   "source": [
    "len(text)"
   ]
  },
  {
   "cell_type": "code",
   "execution_count": 27,
   "metadata": {},
   "outputs": [],
   "source": [
    "i = 0\n",
    "dic = {}\n",
    "while i < len(text):\n",
    "    i, word = parse(i)\n",
    "    if not word in dic:\n",
    "        dic[word] = 1\n",
    "    else:\n",
    "        dic[word] +=1"
   ]
  },
  {
   "cell_type": "code",
   "execution_count": 28,
   "metadata": {},
   "outputs": [
    {
     "data": {
      "text/plain": [
       "{'in': 2,\n",
       " 'a': 6,\n",
       " 'village': 1,\n",
       " 'of': 5,\n",
       " 'la': 1,\n",
       " 'mancha': 1,\n",
       " 'the': 2,\n",
       " 'name': 1,\n",
       " 'which': 1,\n",
       " 'i': 1,\n",
       " 'have': 1,\n",
       " 'no': 1,\n",
       " 'desire': 1,\n",
       " 'to': 2,\n",
       " 'call': 1,\n",
       " 'mind': 1,\n",
       " 'there': 1,\n",
       " 'lived': 1,\n",
       " 'not': 1,\n",
       " 'long': 1,\n",
       " 'since': 1,\n",
       " 'one': 1,\n",
       " 'those': 1,\n",
       " 'gentlemen': 1,\n",
       " 'that': 1,\n",
       " 'keep': 1,\n",
       " 'lance': 2,\n",
       " 'rack': 1,\n",
       " 'an': 2,\n",
       " 'old': 1,\n",
       " 'buckler': 1,\n",
       " 'lean': 1,\n",
       " 'hack': 1,\n",
       " 'and': 2,\n",
       " 'greyhound': 1,\n",
       " 'for': 1,\n",
       " 'coursing': 1,\n",
       " 'olla': 1,\n",
       " 'rather': 1,\n",
       " 'more': 1,\n",
       " 'beef': 1,\n",
       " 'than': 1,\n",
       " 'mutton': 1,\n",
       " 'salad': 1,\n",
       " 'on': 4,\n",
       " 'most': 1,\n",
       " 'nights': 1,\n",
       " 'scraps': 1,\n",
       " 'saturdays': 1,\n",
       " 'lentils': 1,\n",
       " 'fridays': 1,\n",
       " 'pigeon': 1,\n",
       " 'or': 1,\n",
       " 'so': 1,\n",
       " 'extra': 1,\n",
       " 'sundays': 1,\n",
       " 'made': 1,\n",
       " 'away': 1,\n",
       " 'with': 1,\n",
       " 'three': 1,\n",
       " 'quarters': 1,\n",
       " 'his': 1,\n",
       " 'income': 1}"
      ]
     },
     "execution_count": 28,
     "metadata": {},
     "output_type": "execute_result"
    }
   ],
   "source": [
    "dic"
   ]
  },
  {
   "cell_type": "code",
   "execution_count": 29,
   "metadata": {},
   "outputs": [
    {
     "data": {
      "text/plain": [
       "['a', 'of', 'on']"
      ]
     },
     "execution_count": 29,
     "metadata": {},
     "output_type": "execute_result"
    }
   ],
   "source": [
    "sorted(dic, key=lambda key: dic[key], reverse=True)[:3]"
   ]
  },
  {
   "cell_type": "code",
   "execution_count": 49,
   "metadata": {},
   "outputs": [],
   "source": [
    "def parse(i, text):\n",
    "    #global lowercase, separators\n",
    "    res = \"\"\n",
    "    while (i <len(text) and text[i] in lowercase):\n",
    "        res += text[i]\n",
    "        i += 1\n",
    "        \n",
    "    while (i <len(text) and text[i] in separators):\n",
    "        i += 1\n",
    "    \n",
    "    return i, res\n",
    "\n",
    "import string\n",
    "def solve(text):\n",
    "    global lowercase, separators\n",
    "    text = text.lower()\n",
    "    \n",
    "    separators = '!#$%&\\()*+,-./:;<=>?@[\\\\]^_`{|}~ \\n'\n",
    "    lowercase = string.ascii_lowercase + '\\'\\\"'\n",
    "    \n",
    "    i = 0\n",
    "    dic = {}\n",
    "    print(\"l\")\n",
    "    while i < len(text):\n",
    "        print(len(text))\n",
    "        i, word = parse(i, text)\n",
    "        print(i)\n",
    "        if not word in dic:\n",
    "            dic[word] = 1\n",
    "        else:\n",
    "            dic[word] +=1\n",
    "    \n",
    "    res = sorted(dic, key=lambda key: dic[key], reverse=True)[:3]\n",
    "    for khra in ['', \"'\", \"'''\"]:\n",
    "        if khra in res:res.remove(khra)\n",
    "    return res"
   ]
  },
  {
   "cell_type": "code",
   "execution_count": 50,
   "metadata": {},
   "outputs": [
    {
     "name": "stdout",
     "output_type": "stream",
     "text": [
      "l\n",
      "20\n",
      "4\n",
      "20\n",
      "9\n",
      "20\n",
      "15\n",
      "20\n",
      "20\n"
     ]
    },
    {
     "data": {
      "text/plain": [
       "[\"won't\", 'wont']"
      ]
     },
     "execution_count": 50,
     "metadata": {},
     "output_type": "execute_result"
    }
   ],
   "source": [
    "solve(\"\"\"  //wont won't won't\"\"\")"
   ]
  },
  {
   "cell_type": "code",
   "execution_count": 44,
   "metadata": {},
   "outputs": [
    {
     "data": {
      "text/plain": [
       "\"'\""
      ]
     },
     "execution_count": 44,
     "metadata": {},
     "output_type": "execute_result"
    }
   ],
   "source": [
    "\"  //wont won't won't\"[12]"
   ]
  }
 ],
 "metadata": {
  "kernelspec": {
   "display_name": "Python 3",
   "language": "python",
   "name": "python3"
  },
  "language_info": {
   "codemirror_mode": {
    "name": "ipython",
    "version": 3
   },
   "file_extension": ".py",
   "mimetype": "text/x-python",
   "name": "python",
   "nbconvert_exporter": "python",
   "pygments_lexer": "ipython3",
   "version": "3.6.4"
  }
 },
 "nbformat": 4,
 "nbformat_minor": 4
}
