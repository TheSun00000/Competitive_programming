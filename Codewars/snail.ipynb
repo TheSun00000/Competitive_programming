{
 "cells": [
  {
   "cell_type": "code",
   "execution_count": 92,
   "metadata": {},
   "outputs": [],
   "source": [
    "def snail(snail_map):\n",
    "    \n",
    "    N = len(snail_map)\n",
    "    mid = N // 2\n",
    "    n = N - 1\n",
    "    x, y = 0, -1\n",
    "    bar = [0, n]\n",
    "    mode = 0\n",
    "    output = []\n",
    "    #while not (( x == mid) and (y == mid)):\n",
    "    for i in range(N*N):\n",
    "        #print(x, y, mode, bar)\n",
    "        if [x, y] == bar:\n",
    "            s = bar[1]\n",
    "            bar[1] = n - bar[0]\n",
    "            bar[0] = s + ((mode == 2) or (mode == 3))\n",
    "            mode += 1\n",
    "            if mode > 3: mode = 0\n",
    "            \n",
    "        \n",
    "        \n",
    "        \n",
    "        #print(x, y)\n",
    "        if mode == 0: y+=1\n",
    "        elif mode == 1: x+=1\n",
    "        elif mode == 2: y-=1\n",
    "        else: x-=1\n",
    "        try:\n",
    "            output.append(snail_map[x][y])\n",
    "        except:\n",
    "            pass\n",
    "            \n",
    "    return output"
   ]
  },
  {
   "cell_type": "code",
   "execution_count": 67,
   "metadata": {},
   "outputs": [],
   "source": [
    "path = [[1,2,3],\n",
    "        [8,9,4],\n",
    "        [7,6,5]]"
   ]
  },
  {
   "cell_type": "code",
   "execution_count": 93,
   "metadata": {},
   "outputs": [
    {
     "data": {
      "text/plain": [
       "[1, 2, 3, 4, 5, 6, 7, 8, 9]"
      ]
     },
     "execution_count": 93,
     "metadata": {},
     "output_type": "execute_result"
    }
   ],
   "source": [
    "snail(path)"
   ]
  },
  {
   "cell_type": "code",
   "execution_count": 91,
   "metadata": {},
   "outputs": [
    {
     "data": {
      "text/plain": [
       "324"
      ]
     },
     "execution_count": 91,
     "metadata": {},
     "output_type": "execute_result"
    }
   ],
   "source": [
    "len([190, 225, 636, 199, 955, 820, 754, 637, 398, 323, 646, 548, 837, 964, 302, 464, 671, 221, 706, 367, 693, 8, 781, 78, 532, 201, 164, 667, 800, 573, 22, 190, 30, 367, 78, 70, 991, 428, 961, 465, 386, 335, 356, 5, 978, 168, 912, 889, 284, 83, 440, 219, 442, 457, 655, 543, 60, 95, 4, 33, 680, 265, 948, 644, 367, 992, 697, 782, 332, 414, 307, 961, 681, 504, 677, 382, 125, 956, 267, 441, 121, 100, 355, 507, 523, 98, 397, 438, 511, 903, 930, 105, 736, 513, 273, 985, 136, 189, 960, 489, 582, 69, 589, 279, 278, 683, 464, 224, 403, 718, 50, 514, 694, 160, 475, 373, 439, 89, 310, 822, 437, 66, 111, 669, 197, 289, 433, 920, 100, 232, 806, 324, 955, 568, 132, 991, 816, 612, 751, 951, 255, 461, 658, 797, 296, 183, 177, 483, 727, 694, 549, 114, 996, 314, 6, 793, 945, 787, 485, 150, 414, 716, 875, 782, 892, 786, 580, 379, 668, 839, 798, 790, 807, 466, 654, 165, 110, 48, 925, 452, 926, 157, 609, 242, 503, 968, 965, 325, 624, 839, 739, 543, 351, 41, 579, 535, 885, 154, 96, 601, 322, 185, 831, 75, 375, 532, 522, 879, 780, 433, 308, 800, 986, 665, 125, 638, 422, 384, 136, 334, 732, 738, 686, 668, 386, 525, 468, 328, 695, 959, 162, 410, 76, 703, 427, 872, 543, 406, 525, 560, 509, 372, 721, 425, 641, 117, 839, 901, 479, 536, 931, 307, 895, 894, 829, 219, 945, 173, 271, 249, 84, 503, 132, 762, 230, 390, 404, 856, 477, 473, 11, 775, 199, 704, 139, 391, 723, 73, 503, 852, 142, 360, 860, 309, 824, 991, 270, 399, 148, 598, 169, 756, 635, 998, 956, 512, 362, 842, 164, 118, 308, 155, 542, 406, 148, 794, 152, 928, 448, 910, 255, 363, 329, 275, 761, 57, 125, 951, 462, 71, 730, 39, 713, 239])"
   ]
  },
  {
   "cell_type": "code",
   "execution_count": 81,
   "metadata": {},
   "outputs": [
    {
     "data": {
      "text/plain": [
       "144"
      ]
     },
     "execution_count": 81,
     "metadata": {},
     "output_type": "execute_result"
    }
   ],
   "source": [
    "len(b)"
   ]
  }
 ],
 "metadata": {
  "kernelspec": {
   "display_name": "Python 3",
   "language": "python",
   "name": "python3"
  },
  "language_info": {
   "codemirror_mode": {
    "name": "ipython",
    "version": 3
   },
   "file_extension": ".py",
   "mimetype": "text/x-python",
   "name": "python",
   "nbconvert_exporter": "python",
   "pygments_lexer": "ipython3",
   "version": "3.6.4"
  }
 },
 "nbformat": 4,
 "nbformat_minor": 4
}
