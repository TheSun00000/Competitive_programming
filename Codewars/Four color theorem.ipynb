{
 "cells": [
  {
   "cell_type": "code",
   "execution_count": 1,
   "metadata": {},
   "outputs": [],
   "source": [
    "data = \"\"\"\n",
    "AABBCC\n",
    "AABBCC\n",
    "bbDDEF\n",
    "bbDDGH\n",
    "\"\"\".strip()"
   ]
  },
  {
   "cell_type": "code",
   "execution_count": 2,
   "metadata": {},
   "outputs": [],
   "source": [
    "terts = list(set(data.replace(\"\\n\",\"\")))\n",
    "graph = {}\n",
    "for ter in terts:\n",
    "    graph[ter] = []\n",
    "d = data.split(\"\\n\")\n"
   ]
  },
  {
   "cell_type": "code",
   "execution_count": 3,
   "metadata": {},
   "outputs": [],
   "source": [
    "for i in range(len(d)) :\n",
    "    for j in range(len(d[0])):\n",
    "        char = d[i][j]\n",
    "        if  j-1>=0 :\n",
    "            graph[char].append(d[i][j-1])\n",
    "        if i +1< len(d) :\n",
    "            graph[char].append(d[i+1][j])\n",
    "        if j+1 < len(d[0]) : \n",
    "            graph[char].append(d[i][j+1])\n",
    "        if  i-1 >= 0 :\n",
    "            graph[char].append(d[i-1][j])"
   ]
  },
  {
   "cell_type": "code",
   "execution_count": 4,
   "metadata": {},
   "outputs": [],
   "source": [
    "for ter in terts:\n",
    "    graph[ter] = list(set(graph[ter]))\n",
    "    if ter in graph[ter]:\n",
    "        graph[ter].remove(ter)"
   ]
  },
  {
   "cell_type": "code",
   "execution_count": 7,
   "metadata": {},
   "outputs": [
    {
     "data": {
      "text/plain": [
       "{'F': ['H', 'E', 'C'],\n",
       " 'H': ['F', 'G'],\n",
       " 'b': ['D', 'A'],\n",
       " 'D': ['b', 'B', 'G', 'E'],\n",
       " 'A': ['b', 'B'],\n",
       " 'B': ['D', 'C', 'A'],\n",
       " 'G': ['H', 'E', 'D'],\n",
       " 'C': ['E', 'B', 'F'],\n",
       " 'E': ['F', 'C', 'G', 'D']}"
      ]
     },
     "execution_count": 7,
     "metadata": {},
     "output_type": "execute_result"
    }
   ],
   "source": [
    "graph"
   ]
  },
  {
   "cell_type": "code",
   "execution_count": 6,
   "metadata": {},
   "outputs": [
    {
     "name": "stdout",
     "output_type": "stream",
     "text": [
      "AABBCC\n",
      "AABBCC\n",
      "bbDDEF\n",
      "bbDDGH\n"
     ]
    }
   ],
   "source": [
    "for i in d :\n",
    "    print(i)"
   ]
  },
  {
   "cell_type": "code",
   "execution_count": null,
   "metadata": {},
   "outputs": [],
   "source": [
    "max = 0\n",
    "for node in terts : \n",
    "    ajs = graph[node]\n",
    "    for n in ajs:\n",
    "        ajs = list(set(ajs) & set(graph[n]))\n",
    "    max = len(ajs) if len(ajs) > max else max"
   ]
  }
 ],
 "metadata": {
  "kernelspec": {
   "display_name": "Python 3",
   "language": "python",
   "name": "python3"
  },
  "language_info": {
   "codemirror_mode": {
    "name": "ipython",
    "version": 3
   },
   "file_extension": ".py",
   "mimetype": "text/x-python",
   "name": "python",
   "nbconvert_exporter": "python",
   "pygments_lexer": "ipython3",
   "version": "3.6.4"
  }
 },
 "nbformat": 4,
 "nbformat_minor": 5
}
