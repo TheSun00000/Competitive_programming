{
 "cells": [
  {
   "cell_type": "code",
   "execution_count": 1,
   "metadata": {},
   "outputs": [],
   "source": [
    "from copy import deepcopy"
   ]
  },
  {
   "cell_type": "code",
   "execution_count": 2,
   "metadata": {},
   "outputs": [],
   "source": [
    "puzzle = [[5,3,0,0,7,0,0,0,0],\n",
    "          [6,0,0,1,9,5,0,0,0],\n",
    "          [0,9,8,0,0,0,0,6,0],\n",
    "          [8,0,0,0,6,0,0,0,3],\n",
    "          [4,0,0,8,0,3,0,0,1],\n",
    "          [7,0,0,0,2,0,0,0,6],\n",
    "          [0,6,0,0,0,0,2,8,0],\n",
    "          [0,0,0,4,1,9,0,0,5],\n",
    "          [0,0,0,0,8,0,0,7,9]]\n"
   ]
  },
  {
   "cell_type": "code",
   "execution_count": 3,
   "metadata": {},
   "outputs": [],
   "source": [
    "def check(puzzle, x, y, val):\n",
    "    \n",
    "    for i in range(0, 9):\n",
    "        if puzzle[i][y] == val and i != x:\n",
    "            return False\n",
    "    \n",
    "    for j in range(0, 9):\n",
    "        if puzzle[x][j] == val and j != y:\n",
    "            return False\n",
    "    \n",
    "    square_x, square_y = x // 3, y // 3\n",
    "    \n",
    "    for i in range(square_x * 3, square_x * 3 + 3):\n",
    "        for j in range(square_y * 3, square_y * 3 + 3):\n",
    "            if puzzle[i][j] == val and (i, j) != (x, y):\n",
    "                return False\n",
    "        \n",
    "    \n",
    "    \n",
    "    return True"
   ]
  },
  {
   "cell_type": "code",
   "execution_count": 4,
   "metadata": {},
   "outputs": [],
   "source": [
    "matrix = []\n",
    "def solve(arr,x=0,y=0,val=0):\n",
    "    global matrix\n",
    "    #print(x, y, val)\n",
    "    for _ in arr:print(_)\n",
    "    print(\"\\n\")\n",
    "    if check(arr,x,y,val) :\n",
    "        for i in range(9):\n",
    "            for j  in range(9):\n",
    "                if arr[i][j] == 0:\n",
    "                    for val in range(1,10):\n",
    "                        arr[i][j] = val\n",
    "                        solve(deepcopy(arr),i,j,val)\n",
    "                elif i == 8 and j == 8 :\n",
    "                    matrix = arr\n",
    "                    print(\"Hey bitch\")\n",
    "                    break"
   ]
  },
  {
   "cell_type": "code",
   "execution_count": 5,
   "metadata": {},
   "outputs": [],
   "source": [
    "def get_next(arr, x, y):\n",
    "    if y < 8: y+= 1\n",
    "    elif x < 8: x+= 1; y = 0\n",
    "    while arr[x][y] != 0:\n",
    "        if y < 8: y+= 1\n",
    "        elif x < 8:\n",
    "            x+= 1\n",
    "            y = 0\n",
    "        if (x, y) == (8, 8):\n",
    "            break\n",
    "    return x, y"
   ]
  },
  {
   "cell_type": "code",
   "execution_count": 51,
   "metadata": {},
   "outputs": [
    {
     "data": {
      "text/plain": [
       "(2, 0)"
      ]
     },
     "execution_count": 51,
     "metadata": {},
     "output_type": "execute_result"
    }
   ],
   "source": [
    "get_next(puzzle, 1, 8)"
   ]
  },
  {
   "cell_type": "code",
   "execution_count": 29,
   "metadata": {},
   "outputs": [],
   "source": [
    "def solve(arr,x=0,y=0,val=0):\n",
    "    global matrix, stoped\n",
    "    \n",
    "    if not (stoped):\n",
    "        if check(arr,x,y,val):\n",
    "            if (x, y) == (8, 8):\n",
    "                stoped = True\n",
    "                matrix = arr\n",
    "                arr[x][y] = val\n",
    "            \n",
    "            else:\n",
    "                #get next case  \n",
    "               \n",
    "                arr[x][y] = val\n",
    "                x, y = get_next(arr, x, y)\n",
    "                \n",
    "                for val in range(1, 10):\n",
    "                    solve(deepcopy(arr),x,y,val)\n",
    "    "
   ]
  },
  {
   "cell_type": "code",
   "execution_count": 30,
   "metadata": {},
   "outputs": [],
   "source": [
    "matrix = []\n",
    "stoped = False\n",
    "\n",
    "def Sudoku(puzzle):\n",
    "    global matrix, stoped\n",
    "    stoped = False\n",
    "    \n",
    "    if puzzle[0][0] != 0:\n",
    "        solve(deepcopy(puzzle), 0, 0, puzzle[0][0])\n",
    "        \n",
    "    else:\n",
    "        for val in range(1, 10):\n",
    "            if not stoped:\n",
    "                solve(deepcopy(puzzle), 0, 0, val)\n",
    "    \n",
    "    return matrix"
   ]
  },
  {
   "cell_type": "code",
   "execution_count": 31,
   "metadata": {
    "scrolled": true
   },
   "outputs": [
    {
     "data": {
      "text/plain": [
       "[[9, 2, 6, 5, 8, 3, 4, 7, 1],\n",
       " [7, 1, 3, 4, 2, 6, 9, 8, 5],\n",
       " [8, 4, 5, 9, 7, 1, 3, 6, 2],\n",
       " [3, 6, 2, 8, 5, 7, 1, 4, 9],\n",
       " [4, 7, 1, 2, 6, 9, 5, 3, 8],\n",
       " [5, 9, 8, 3, 1, 4, 7, 2, 6],\n",
       " [6, 5, 7, 1, 3, 8, 2, 9, 4],\n",
       " [2, 8, 4, 7, 9, 5, 6, 1, 3],\n",
       " [1, 3, 9, 6, 4, 2, 8, 5, 7]]"
      ]
     },
     "execution_count": 31,
     "metadata": {},
     "output_type": "execute_result"
    }
   ],
   "source": [
    "puzzle = [[9, 0, 0, 0, 8, 0, 0, 0, 1],\n",
    " [0, 0, 0, 4, 0, 6, 0, 0, 0],\n",
    " [0, 0, 5, 0, 7, 0, 3, 0, 0],\n",
    " [0, 6, 0, 0, 0, 0, 0, 4, 0],\n",
    " [4, 0, 1, 0, 6, 0, 5, 0, 8],\n",
    " [0, 9, 0, 0, 0, 0, 0, 2, 0],\n",
    " [0, 0, 7, 0, 3, 0, 2, 0, 0],\n",
    " [0, 0, 0, 7, 0, 5, 0, 0, 0],\n",
    " [1, 0, 0, 0, 4, 0, 0, 0, 7]]\n",
    "\n",
    "Sudoku(puzzle)"
   ]
  },
  {
   "cell_type": "code",
   "execution_count": 16,
   "metadata": {},
   "outputs": [
    {
     "data": {
      "text/plain": [
       "(0, 1)"
      ]
     },
     "execution_count": 16,
     "metadata": {},
     "output_type": "execute_result"
    }
   ],
   "source": [
    "get_next(puzzle, 0, 0)"
   ]
  }
 ],
 "metadata": {
  "kernelspec": {
   "display_name": "Python 3",
   "language": "python",
   "name": "python3"
  },
  "language_info": {
   "codemirror_mode": {
    "name": "ipython",
    "version": 3
   },
   "file_extension": ".py",
   "mimetype": "text/x-python",
   "name": "python",
   "nbconvert_exporter": "python",
   "pygments_lexer": "ipython3",
   "version": "3.6.4"
  }
 },
 "nbformat": 4,
 "nbformat_minor": 4
}
