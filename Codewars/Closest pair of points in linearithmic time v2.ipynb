{
 "cells": [
  {
   "cell_type": "code",
   "execution_count": 55,
   "metadata": {},
   "outputs": [],
   "source": [
    "def distance(p1, p2):\n",
    "    return ((p1[0] - p2[0])**2 + (p1[1] - p2[1])**2)**(0.5)"
   ]
  },
  {
   "cell_type": "code",
   "execution_count": 124,
   "metadata": {},
   "outputs": [],
   "source": [
    "def brute_force(P):\n",
    "    d = 1e10\n",
    "    #pair = P[0]\n",
    "    for i in range(len(P)):\n",
    "        for j in range(len(P)):\n",
    "            if i != j:\n",
    "                dist = distance(P[i], P[j])\n",
    "                #print(\"       \",dist)\n",
    "                if dist < d:\n",
    "                    d = dist\n",
    "                    pair = (P[i], P[j])\n",
    "\n",
    "    return d, pair"
   ]
  },
  {
   "cell_type": "code",
   "execution_count": 137,
   "metadata": {},
   "outputs": [],
   "source": [
    "def strip_brute_force(strip, d):\n",
    "    main_d = d\n",
    "    pair   = ((0,0), (0,0))\n",
    "    Q = sorted(strip, key=lambda k: k[1])\n",
    "    L = len(strip)\n",
    "    for i in range(L):\n",
    "        j = i + 1\n",
    "        while (j < L) and (Q[j][1] - Q[i][1]< main_d):\n",
    "            pair = (Q[i], Q[j])\n",
    "            main_d = d\n",
    "            j += 1\n",
    "            \n",
    "    return main_d, pair"
   ]
  },
  {
   "cell_type": "code",
   "execution_count": 138,
   "metadata": {},
   "outputs": [],
   "source": [
    "def closest(P):\n",
    "    if len(P) <= 4:\n",
    "        #print(\"BF\", len(P))\n",
    "        return brute_force(P)\n",
    "    else:\n",
    "        mid = len(P) // 2\n",
    "        dl, pairl = closest(P[:mid])\n",
    "        dm, pairm = closest(P[mid:])\n",
    "        \n",
    "        pair, d = pairl, dl  \n",
    "        if dm < dl:\n",
    "            pair, d = pairm, dm\n",
    "            \n",
    "        #the strip:\n",
    "        strip = []\n",
    "        for p in P:\n",
    "            if (abs(p[0] - P[mid][0]) < d):\n",
    "                strip.append(p)\n",
    "        \n",
    "        #print(\"strip\", len(P), len(strip))\n",
    "        if len(strip) > 1:\n",
    "            ds, pairs = strip_brute_force(strip, d)\n",
    "            if ds < d:\n",
    "                return ds, pairs\n",
    "        return d, pair\n",
    "        \n"
   ]
  },
  {
   "cell_type": "code",
   "execution_count": 139,
   "metadata": {},
   "outputs": [
    {
     "data": {
      "text/plain": [
       "(1.0538026380684373, ((2.68, -15.6), (3.44, -16.33)))"
      ]
     },
     "execution_count": 139,
     "metadata": {},
     "output_type": "execute_result"
    }
   ],
   "source": [
    "closest(points)"
   ]
  },
  {
   "cell_type": "code",
   "execution_count": 140,
   "metadata": {},
   "outputs": [],
   "source": [
    "def closest_pair(points): \n",
    "    global Q\n",
    "    points.sort(key=lambda k: k[0])\n",
    "    Q = points.copy()\n",
    "    Q.sort(key=lambda k: k[1])\n",
    "    return closest(list(points))[1]\n"
   ]
  },
  {
   "cell_type": "code",
   "execution_count": 141,
   "metadata": {},
   "outputs": [
    {
     "data": {
      "text/plain": [
       "((2.68, -15.6), (3.44, -16.33))"
      ]
     },
     "execution_count": 141,
     "metadata": {},
     "output_type": "execute_result"
    }
   ],
   "source": [
    "closest_pair(points)"
   ]
  },
  {
   "cell_type": "code",
   "execution_count": 114,
   "metadata": {},
   "outputs": [],
   "source": [
    "points = list(((0.012288934251469926, -0.012110612776549677), (0.00044842157879326945, -0.012474694034007255), (0.019744869420042027, -0.009375475234789507), (0.014840156715066529, -0.0208933745233206), (0.0060836415534801964, -0.01721164366037719), (0.020154729216607215, -0.014290402012266334), (0.017347428657779405, -0.018945555631657736), (0.008736265729158744, -0.020709938583192908), (0.0165423585316056, -0.013136663830912146), (0.008178092728486762, -0.003918340527208206), (0.011226628787694842, -0.0008851415265142766), (0.023792195967829805, -0.012451265745941116), (0.012810255401674223, -0.023736042572436798), (0.012730031871694827, -0.006781260617011295), (0.017672073202361784, -0.0066340846050360535), (0.002682841245482296, -0.015601802074751484), (0.008646267145689706, -0.014237933508295005), (0.0034838152605439886, -0.009900926283688908), (0.015089956782494508, -0.0036794649794836313), (0.014915270715948134, -0.00974760627365709), (0.005750183884586929, -0.012778179642702467), (0.011223878342485368, -0.01815151103280086), (0.009741749606088916, -0.009523849401235752), (0.0034434453130622236, -0.016325283171628), (0.006586889562270394, -0.006723168579827294), (0.013441511002516459, -0.01517866569810051)))\n",
    "points = [(round(p[0]*1000, 2), round(p[1]*1000, 2)) for p in points]"
   ]
  },
  {
   "cell_type": "code",
   "execution_count": 91,
   "metadata": {},
   "outputs": [
    {
     "data": {
      "text/plain": [
       "[(12.29, -12.11),\n",
       " (0.45, -12.47),\n",
       " (19.74, -9.38),\n",
       " (14.84, -20.89),\n",
       " (6.08, -17.21),\n",
       " (20.15, -14.29),\n",
       " (17.35, -18.95),\n",
       " (8.74, -20.71),\n",
       " (16.54, -13.14),\n",
       " (8.18, -3.92),\n",
       " (11.23, -0.89),\n",
       " (23.79, -12.45),\n",
       " (12.81, -23.74),\n",
       " (12.73, -6.78),\n",
       " (17.67, -6.63),\n",
       " (2.68, -15.6),\n",
       " (8.65, -14.24),\n",
       " (3.48, -9.9),\n",
       " (15.09, -3.68),\n",
       " (14.92, -9.75),\n",
       " (5.75, -12.78),\n",
       " (11.22, -18.15),\n",
       " (9.74, -9.52),\n",
       " (3.44, -16.33),\n",
       " (6.59, -6.72),\n",
       " (13.44, -15.18)]"
      ]
     },
     "execution_count": 91,
     "metadata": {},
     "output_type": "execute_result"
    }
   ],
   "source": [
    "points"
   ]
  }
 ],
 "metadata": {
  "kernelspec": {
   "display_name": "Python 3",
   "language": "python",
   "name": "python3"
  },
  "language_info": {
   "codemirror_mode": {
    "name": "ipython",
    "version": 3
   },
   "file_extension": ".py",
   "mimetype": "text/x-python",
   "name": "python",
   "nbconvert_exporter": "python",
   "pygments_lexer": "ipython3",
   "version": "3.6.4"
  }
 },
 "nbformat": 4,
 "nbformat_minor": 4
}
