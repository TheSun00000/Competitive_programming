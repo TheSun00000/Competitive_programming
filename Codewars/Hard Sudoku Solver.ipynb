{
 "cells": [
  {
   "cell_type": "code",
   "execution_count": 2,
   "metadata": {},
   "outputs": [],
   "source": [
    "puzzle = [[5,3,0,0,7,0,0,0,0],\n",
    "          [6,0,0,1,9,5,0,0,0],\n",
    "          [0,9,8,0,0,0,0,6,0],\n",
    "          [8,0,0,0,6,0,0,0,3],\n",
    "          [4,0,0,8,0,3,0,0,1],\n",
    "          [7,0,0,0,2,0,0,0,6],\n",
    "          [0,6,0,0,0,0,2,8,0],\n",
    "          [0,0,0,4,1,9,0,0,5],\n",
    "          [0,0,0,0,8,0,0,7,9]]\n"
   ]
  },
  {
   "cell_type": "code",
   "execution_count": 35,
   "metadata": {},
   "outputs": [],
   "source": [
    "def check(puzzle, x, y, val):\n",
    "    \n",
    "    for i in range(0, 9):\n",
    "        if puzzle[i][y] == val and i != x:\n",
    "            return False\n",
    "    \n",
    "    for j in range(0, 9):\n",
    "        if puzzle[x][j] == val and j != y:\n",
    "            return False\n",
    "    \n",
    "    square_x, square_y = x // 3, y // 3\n",
    "    \n",
    "    for i in range(square_x * 3, square_x * 3 + 3):\n",
    "        for j in range(square_y * 3, square_y * 3 + 3):\n",
    "            if puzzle[i][j] == val and (i, j) != (x, y):\n",
    "                return False\n",
    "        \n",
    "    \n",
    "    \n",
    "    return True"
   ]
  },
  {
   "cell_type": "code",
   "execution_count": 38,
   "metadata": {},
   "outputs": [
    {
     "name": "stdout",
     "output_type": "stream",
     "text": [
      "1 False\n",
      "--------\n",
      "2 False\n",
      "--------\n",
      "3 False\n",
      "--------\n",
      "4 True\n",
      "--------\n",
      "5 True\n",
      "--------\n",
      "6 False\n",
      "--------\n",
      "7 False\n",
      "--------\n",
      "8 False\n",
      "--------\n",
      "9 True\n",
      "--------\n"
     ]
    }
   ],
   "source": [
    "for i in range(1,10):\n",
    "    print(i, check(puzzle, 5, 7, i))\n",
    "    print(\"--------\")"
   ]
  },
  {
   "cell_type": "code",
   "execution_count": 22,
   "metadata": {},
   "outputs": [
    {
     "name": "stdout",
     "output_type": "stream",
     "text": [
      "0 0 1\n",
      "0 2 1\n",
      "0 3 1\n",
      "[]\n"
     ]
    }
   ],
   "source": [
    "from copy import deepcopy\n",
    "\n",
    "matrix = []\n",
    "\n",
    "def Sudoku(puzzle):\n",
    "    global matrix\n",
    "    \"\"\"for valll in range(1, 10):\n",
    "        solve(puzzle, 0, 0, valll)\n",
    "        if matrix != []:\n",
    "            return matrix\"\"\"\n",
    "    solve(deepcopy(puzzle), 0, 0, 1)\n",
    "    return matrix\n",
    "\n",
    "def check(puzzle, x, y, val):\n",
    "\n",
    "    for i in range(0, 9):\n",
    "        if puzzle[i][y] == val and i != x:\n",
    "            return False\n",
    "\n",
    "    for j in range(0, 9):\n",
    "        if puzzle[x][j] == val and j != y:\n",
    "            return False\n",
    "\n",
    "    square_x, square_y = x // 3, y // 3\n",
    "\n",
    "    for i in range(square_x * 3, square_x * 3 + 3):\n",
    "        for j in range(square_y * 3, square_y * 3 + 3):\n",
    "            if puzzle[i][j] == val and (i, j) != (x, y):\n",
    "                return False\n",
    "\n",
    "    return True\n",
    "\n",
    "def solve(arr,x=0,y=0,val=0):\n",
    "    global matrix\n",
    "    print(x, y, val)\n",
    "    if check(arr,x,y,val) :\n",
    "        for ind in range(len(arr)) :\n",
    "            row = arr[ind]\n",
    "            for i  in range(len(row)) :\n",
    "                if row[i] == 0:\n",
    "                    for j in range(1,10):\n",
    "                        row[i] = j\n",
    "                        return solve(deepcopy(arr),ind,i,j)\n",
    "                elif ind == 8 and i == 8 :\n",
    "                    matrix = arr\n",
    "                    break\n",
    "\n",
    "\n",
    "\n",
    "puzzle = [[5,3,0,0,7,0,0,0,0],\n",
    "          [6,0,0,1,9,5,0,0,0],\n",
    "          [0,9,8,0,0,0,0,6,0],\n",
    "          [8,0,0,0,6,0,0,0,3],\n",
    "          [4,0,0,8,0,3,0,0,1],\n",
    "          [7,0,0,0,2,0,0,0,6],\n",
    "          [0,6,0,0,0,0,2,8,0],\n",
    "          [0,0,0,4,1,9,0,0,5],\n",
    "          [0,0,0,0,8,0,0,7,9]]\n",
    "\n",
    "solution = [[5,3,4,6,7,8,9,1,2],\n",
    "            [6,7,2,1,9,5,3,4,8],\n",
    "            [1,9,8,3,4,2,5,6,7],\n",
    "            [8,5,9,7,6,1,4,2,3],\n",
    "            [4,2,6,8,5,3,7,9,1],\n",
    "            [7,1,3,9,2,4,8,5,6],\n",
    "            [9,6,1,5,3,7,2,8,4],\n",
    "            [2,8,7,4,1,9,6,3,5],\n",
    "            [3,4,5,2,8,6,1,7,9]]\n",
    "\n",
    "print(Sudoku(deepcopy(puzzle)))"
   ]
  },
  {
   "cell_type": "code",
   "execution_count": 20,
   "metadata": {},
   "outputs": [
    {
     "data": {
      "text/plain": [
       "True"
      ]
     },
     "execution_count": 20,
     "metadata": {},
     "output_type": "execute_result"
    }
   ],
   "source": [
    "check(puzzle, 0, 2, 1)"
   ]
  }
 ],
 "metadata": {
  "kernelspec": {
   "display_name": "Python 3",
   "language": "python",
   "name": "python3"
  },
  "language_info": {
   "codemirror_mode": {
    "name": "ipython",
    "version": 3
   },
   "file_extension": ".py",
   "mimetype": "text/x-python",
   "name": "python",
   "nbconvert_exporter": "python",
   "pygments_lexer": "ipython3",
   "version": "3.6.4"
  }
 },
 "nbformat": 4,
 "nbformat_minor": 4
}
